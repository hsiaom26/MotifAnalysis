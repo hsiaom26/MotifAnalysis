{
 "cells": [
  {
   "cell_type": "markdown",
   "metadata": {},
   "source": [
    "## A class doing common motif analyze"
   ]
  },
  {
   "cell_type": "code",
   "execution_count": null,
   "metadata": {
    "collapsed": true
   },
   "outputs": [],
   "source": [
    "class CommonMotif:\n",
    "    stageMatrix = None\n",
    "    stageMatrixIndex = None\n",
    "    executionTrace = None # include \"tick\" featureprofile\n",
    "\n",
    "    stage2commonDi = None\n",
    "    stage2HkDi = None\n",
    "    stage2nodeDi = None\n",
    "    stageGaplb = None\n",
    "    \n",
    "    comMotif_dict = None\n",
    "    disMotif_dict = None\n",
    "    \n",
    "    def __init__(self, stageMatrix, Motif, execTrace_dit, outputStage):\n",
    "#         print(\"==Calculate common moitf==\")\n",
    "        self.stageMatrix = stageMatrix\n",
    "        self.stageMatrixIndex = Motif.getStageMatrixIndex()\n",
    "        self.executionTrace = execTrace_dit\n",
    "        \n",
    "        self.stage2commonDi = outputStage.getStage2common()\n",
    "        self.stage2HkDi = outputStage.getStage2Hk()\n",
    "        self.stage2nodeDi = outputStage.getStage2node()\n",
    "        self.stageGaplb = outputStage.getStageGap()\n",
    "\n",
    "        self.comMotif_dict = dict()\n",
    "        self.disMotif_dict = dict()\n",
    "        \n",
    "        self.__setComMotif()\n",
    "        self.__setDisMotif()\n",
    "        \n",
    "        \n",
    "    #===private function \n",
    "    \n",
    "    # Capture complete info of common motif from executionTrace\n",
    "    def __setComMotif(self):\n",
    "        for stage in self.stage2commonDi:\n",
    "            if self.stage2commonDi[stage]:\n",
    "                motifID = list(self.stage2HkDi[stage+1].keys())[0][1:] #because common stage only have one motif\n",
    "                hooklog_names = self.stage2HkDi[stage+1]['M'+motifID]\n",
    "                rep1_name = hooklog_names[0]\n",
    "                rep1_indexRange = self.stageMatrixIndex[rep1_name][stage] #will capture the range of executionTrace\n",
    "                rep2_indexRange = self.stageMatrixIndex[ hooklog_names[1] ][stage] # hoolong_name[1] = rep2_name\n",
    "                \n",
    "                # comMotif_object is a tuple which contains: (ComAPIs, ori_range1, ori_range2)\n",
    "                comMotif_object = (self.executionTrace[rep1_name][rep1_indexRange[0]:rep1_indexRange[1]+1] , rep1_indexRange, rep2_indexRange)\n",
    "                self.comMotif_dict['s'+str(stage+1)+'_'+motifID] = comMotif_object\n",
    "            \n",
    "\n",
    "    # Capture complete info of distinct motif from executionTrace\n",
    "    def __setDisMotif(self):        \n",
    "        for stage in self.stage2nodeDi:\n",
    "            for stage1 in self.stage2HkDi: \n",
    "                for motifID in self.stage2HkDi[stage1]:\n",
    "                    if motifID != self.stageGaplb:\n",
    "                        hk = self.stage2HkDi[stage1][motifID][0]  \n",
    "                        start = self.stageMatrixIndex[hk][stage][0]\n",
    "                        end = self.stageMatrixIndex[hk][stage][1]\n",
    "                        self.disMotif_dict['s'+str(stage+1)+'_'+motifID[1:]] = self.executionTrace[hk][start:end+1]\n",
    "    \n",
    "#         print(\"--- 2 set DistinctMotif dict fin---\")\n",
    "    \n",
    "    #===public function\n",
    "    def getComMotifDict(self):\n",
    "        return self.comMotif_dict\n",
    "    \n",
    "    def getDisMotiDict(self):\n",
    "        return self.disMotif_dict"
   ]
  }
 ],
 "metadata": {
  "kernelspec": {
   "display_name": "Python 3",
   "language": "python",
   "name": "python3"
  },
  "language_info": {
   "codemirror_mode": {
    "name": "ipython",
    "version": 3
   },
   "file_extension": ".py",
   "mimetype": "text/x-python",
   "name": "python",
   "nbconvert_exporter": "python",
   "pygments_lexer": "ipython3",
   "version": "3.6.1"
  }
 },
 "nbformat": 4,
 "nbformat_minor": 2
}
