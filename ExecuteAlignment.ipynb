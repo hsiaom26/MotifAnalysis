{
 "cells": [
  {
   "cell_type": "code",
   "execution_count": 1,
   "metadata": {
    "collapsed": true
   },
   "outputs": [],
   "source": [
    "# input \n",
    "data_directory = \".//hooklogs//morstar/\" # make sure the last character is '/'\n",
    "in_tag = \"morstar\"\n",
    "in_parseFirstPar = True # keep first parameter or not\n",
    "in_window = 1"
   ]
  },
  {
   "cell_type": "code",
   "execution_count": 2,
   "metadata": {},
   "outputs": [],
   "source": [
    "# 1.Get a dict of feature profiles (out: a hkName list, a featureProfile dict)\n",
    "%run FeatureHooklog3.ipynb\n",
    "Hooklog = FeatureHooklog3\n",
    "\n",
    "hkName_li = list(filter(lambda f:f.endswith('.trace.hooklog'), os.listdir(data_directory))) # hooklog Name List\n",
    "\n",
    "# ps: get Hkli without timestamp\n",
    "fp_dict = {f:Hooklog(data_directory + f, 0).getHkli_noContainTS() for f in hkName_li } # Feature Profile dict (of hkName_li)"
   ]
  },
  {
   "cell_type": "code",
   "execution_count": 3,
   "metadata": {
    "collapsed": true
   },
   "outputs": [],
   "source": [
    "# 2.Get a dict of pairwise alignment result \n",
    "# (in: a featureProfile dict; out: alignmentProfile dict, alingmnt baseline)\n",
    "\n",
    "%run Alignment3.ipynb\n",
    "BASE = hkName_li[0] # randomly pick a BASE trace log\n",
    "fpBASE = fp_dict[BASE]\n",
    "align_dict = {hk:pairwise_NW( fpBASE, fp_dict[hk], 2, -1, -3, 1, 0, 1)[2] for hk in hkName_li } # pairwise all"
   ]
  },
  {
   "cell_type": "code",
   "execution_count": 4,
   "metadata": {
    "collapsed": true
   },
   "outputs": [],
   "source": [
    "# 3. Get matchMatrix, gapSeqList\n",
    "# (in: alignmentProfile dict; out: matchMatrix, gapSeqList)\n",
    "\n",
    "%run StructMatchGap3.ipynb\n",
    "data = structMatchGap(align_dict)\n",
    "matchMatrix = data[0]\n",
    "gapSeqList = data[1]"
   ]
  },
  {
   "cell_type": "code",
   "execution_count": 5,
   "metadata": {
    "collapsed": true
   },
   "outputs": [],
   "source": [
    "# 4. Get stageMatrix \n",
    "# (in: matchMatrix, gapSeqList; out: stageMatrix)\n",
    "\n",
    "% run StageMatrix.ipynb\n",
    "stageMatrixResult = stageMatrix(matchMatrix, gapSeqList)"
   ]
  },
  {
   "cell_type": "code",
   "execution_count": 6,
   "metadata": {},
   "outputs": [
    {
     "name": "stdout",
     "output_type": "stream",
     "text": [
      "total segment: 10\n",
      "No Gap.\n"
     ]
    }
   ],
   "source": [
    "#  5. Get Motif Elements\n",
    "# (in: stageMatrixResult, BASE; out: Motif object)\n",
    "\n",
    "% run Motif.ipynb\n",
    "Motif = Motif(stageMatrixResult, BASE)"
   ]
  }
 ],
 "metadata": {
  "kernelspec": {
   "display_name": "Python 3",
   "language": "python",
   "name": "python3"
  },
  "language_info": {
   "codemirror_mode": {
    "name": "ipython",
    "version": 3
   },
   "file_extension": ".py",
   "mimetype": "text/x-python",
   "name": "python",
   "nbconvert_exporter": "python",
   "pygments_lexer": "ipython3",
   "version": "3.6.1"
  }
 },
 "nbformat": 4,
 "nbformat_minor": 2
}
