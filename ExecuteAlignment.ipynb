{
 "cells": [
  {
   "cell_type": "code",
   "execution_count": null,
   "metadata": {},
   "outputs": [],
   "source": [
    "import sys\n",
    "print(sys.version)"
   ]
  },
  {
   "cell_type": "code",
   "execution_count": null,
   "metadata": {
    "collapsed": true
   },
   "outputs": [],
   "source": [
    "import os\n",
    "import pickle\n",
    "\n",
    "# input \n",
    "familyName = \"eggnog\"\n",
    "data_directory = \"11952data/\"+familyName+\"/\"\n",
    "in_tag = familyName + \"_0.8\"\n",
    "in_parseFirstPar = True # keep first parameter or not\n",
    "in_window = 1\n",
    "outputPath = \"output/GSA-test/\" + in_tag + \"/\" + data_directory.split('/')[-2] + \"/\" # MIKE: no 'l' at the end. It is ridiculous!!"
   ]
  },
  {
   "cell_type": "code",
   "execution_count": null,
   "metadata": {
    "scrolled": true
   },
   "outputs": [],
   "source": [
    "# 1.Get a dict of feature profiles (out: a hkName list, a featureProfile dict)\n",
    "%run FeatureTrace.ipynb\n",
    "FeatTrace = FeatureTrace\n",
    "\n",
    "traceName_li = list(filter(lambda f:f.endswith('.trace.hooklog'), os.listdir(data_directory))) # hooklog Name List\n",
    "\n",
    "fp_dict = dict()\n",
    "execTrace_dict = dict()\n",
    "\n",
    "for f in traceName_li:\n",
    "    featureTrace = FeatTrace(data_directory + f).getTrace_noContainTS()\n",
    "    fp_dict[f] = featureTrace\n",
    "    \n",
    "    execTrace = FeatTrace(data_directory + f).getTrace_containTS()\n",
    "    execTrace_dict[f] = execTrace"
   ]
  },
  {
   "cell_type": "code",
   "execution_count": null,
   "metadata": {},
   "outputs": [],
   "source": [
    "# 2.Get a dict of pairwise alignment result \n",
    "# (in: a featureProfile dict; out: alignmentProfile dict, alingmnt baseline)\n",
    "\n",
    "# %run Alignment3.ipynb\n",
    "%run Alignment_Fast3.ipynb\n",
    "\n",
    "BASE = traceName_li[0] # randomly pick a BASE trace log\n",
    "# BASE = \"008e76aafe9bd3132293816e6b0ac8e68cea5445c47065e53d7028ddbe375843_3272.trace.hooklog\" # specified base\n",
    "fpBASE = fp_dict[BASE]\n",
    "print(BASE)\n",
    "align_dict = {hk:globalAlign( fpBASE, fp_dict[hk], 10, -1, 0)[2] for hk in traceName_li } # pairwise all"
   ]
  },
  {
   "cell_type": "code",
   "execution_count": null,
   "metadata": {
    "collapsed": true
   },
   "outputs": [],
   "source": [
    "# 3. Get matchMatrix, gapSeqList\n",
    "# (in: alignmentProfile dict; out: matchMatrix, gapSeqList)\n",
    "%run StructMatchGap3.ipynb\n",
    "\n",
    "data = structMatchGap(align_dict, BASE)\n",
    "matchMatrix = data[0]\n",
    "gapSeqList = data[1]"
   ]
  },
  {
   "cell_type": "code",
   "execution_count": null,
   "metadata": {
    "collapsed": true
   },
   "outputs": [],
   "source": [
    "# 4. Get stageMatrix \n",
    "# (in: matchMatrix, gapSeqList; out: stageMatrix)\n",
    "% run StageMatrix.ipynb\n",
    "\n",
    "stageMatrixResult = stageMatrix(matchMatrix, gapSeqList)"
   ]
  },
  {
   "cell_type": "code",
   "execution_count": null,
   "metadata": {
    "collapsed": true
   },
   "outputs": [],
   "source": [
    "#  5. Get Motif Elements\n",
    "# (in: stageMatrixResult, BASE; out: Motif object)\n",
    "% run Motif.ipynb\n",
    "\n",
    "myMotif = Motif(stageMatrixResult, BASE)"
   ]
  },
  {
   "cell_type": "code",
   "execution_count": null,
   "metadata": {
    "collapsed": true
   },
   "outputs": [],
   "source": [
    "######  Garbage Code  -->>>  Work around only!   #####\n",
    "###  WJ:  I don't know why do this!?\n",
    "\n",
    "#with open('docs/label_dict-m2t-t2m-2014.pickle', 'rb') as f:\n",
    "#    label_dict = pickle.load(f)[1] #(proc_list,proc_dict,label_list, label_dict)\n",
    "#label_dict = {k[:-len('.trace.hooklog')]:label_dict[k] for k in label_dict}\n",
    "\n",
    "# MIKE: 20170808, I comment it. Need to come back again.\n",
    "label_dict = dict()"
   ]
  },
  {
   "cell_type": "code",
   "execution_count": null,
   "metadata": {
    "scrolled": false
   },
   "outputs": [],
   "source": [
    "## Drawing stages graphs\n",
    "## output into 'outputPath'\n",
    "% run OutputStageBarchart3.ipynb\n",
    "\n",
    "if not os.path.isdir(outputPath): os.makedirs(outputPath)\n",
    "outputStage = OutputStage( stageMatrixResult, outputPath, BASE, myMotif ) # output stages graphs\n",
    "OutputMotiGraph(stageMatrixResult, BASE, fp_dict, outputStage, outputPath, myMotif, label_dict) # output motif graphs"
   ]
  },
  {
   "cell_type": "code",
   "execution_count": null,
   "metadata": {
    "collapsed": true,
    "scrolled": false
   },
   "outputs": [],
   "source": [
    "## Output common motif analysis\n",
    "# output into 'outputPath'\n",
    "% run CommonMotifAnalysis3.ipynb\n",
    "execTrace_dict = fp_dict\n",
    "motiDict = MotiDict(stageMatrixResult, myMotif, execTrace_dict, outputStage)\n",
    "comMotif = motiDict.getComMoti()\n",
    "# comResAnalysis = ComResAnalysis(comMotif)"
   ]
  },
  {
   "cell_type": "code",
   "execution_count": null,
   "metadata": {
    "collapsed": true
   },
   "outputs": [],
   "source": [
    "% run OutputCommonMotif3.ipynb\n",
    "OutputCsv(outputPath, comMotif, stageMatrixResult, myMotif, BASE, execTrace_dict, outputStage)\n",
    "# OutputComMotiAnaly(comResAnalysis, outputPath)"
   ]
  }
 ],
 "metadata": {
  "kernelspec": {
   "display_name": "Python 3",
   "language": "python",
   "name": "python3"
  },
  "language_info": {
   "codemirror_mode": {
    "name": "ipython",
    "version": 3
   },
   "file_extension": ".py",
   "mimetype": "text/x-python",
   "name": "python",
   "nbconvert_exporter": "python",
   "pygments_lexer": "ipython3",
   "version": "3.6.3"
  }
 },
 "nbformat": 4,
 "nbformat_minor": 2
}
