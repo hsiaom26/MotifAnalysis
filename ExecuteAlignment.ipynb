{
 "cells": [
  {
   "cell_type": "code",
   "execution_count": 1,
   "metadata": {},
   "outputs": [
    {
     "name": "stdout",
     "output_type": "stream",
     "text": [
      "3.4.5 |Continuum Analytics, Inc.| (default, Jul  5 2016, 14:53:07) [MSC v.1600 64 bit (AMD64)]\n"
     ]
    }
   ],
   "source": [
    "import sys\n",
    "print(sys.version)"
   ]
  },
  {
   "cell_type": "code",
   "execution_count": 2,
   "metadata": {
    "collapsed": true
   },
   "outputs": [],
   "source": [
    "import os\n",
    "import pickle\n",
    "\n",
    "# input \n",
    "data_directory = \"hooklogs/allaple_woj_g_98/\" # make sure the last character is '/'\n",
    "in_tag = \"allaple_woj_g_98\"\n",
    "in_parseFirstPar = True # keep first parameter or not\n",
    "in_window = 1\n",
    "\n",
    "outputPath = \"output/allaple_woj_g_98\" # MIKE: no 'l' at the end. It is ridiculous!!"
   ]
  },
  {
   "cell_type": "code",
   "execution_count": 3,
   "metadata": {
    "collapsed": true
   },
   "outputs": [],
   "source": [
    "# 1.Get a dict of feature profiles (out: a hkName list, a featureProfile dict)\n",
    "%run FeatureHooklog3.ipynb\n",
    "Hooklog = FeatureHooklog3\n",
    "\n",
    "hkName_li = list(filter(lambda f:f.endswith('.trace.hooklog'), os.listdir(data_directory))) # hooklog Name List\n",
    "\n",
    "# ps: get Hkli without timestamp\n",
    "fp_dict = {f:Hooklog(data_directory + f, 1).getHkli_noContainTS() for f in hkName_li } # Feature Profile dict (of hkName_li)\n",
    "execTrace_dict = {f:Hooklog(data_directory + f, 1).getHkli_containTS() for f in hkName_li } # execution trace dict"
   ]
  },
  {
   "cell_type": "code",
   "execution_count": 4,
   "metadata": {},
   "outputs": [],
   "source": [
    "# 2.Get a dict of pairwise alignment result \n",
    "# (in: a featureProfile dict; out: alignmentProfile dict, alingmnt baseline)\n",
    "#%run Alignment3.ipynb\n",
    "%run Alignment_Fast3.ipynb\n",
    "BASE = hkName_li[0] # randomly pick a BASE trace log\n",
    "fpBASE = fp_dict[BASE]\n",
    "align_dict = {hk:pairwise_NW( fpBASE, fp_dict[hk], 2, -1, -3, 1)[2] for hk in hkName_li } # pairwise all"
   ]
  },
  {
   "cell_type": "code",
   "execution_count": 5,
   "metadata": {},
   "outputs": [],
   "source": [
    "# 3. Get matchMatrix, gapSeqList\n",
    "# (in: alignmentProfile dict; out: matchMatrix, gapSeqList)\n",
    "\n",
    "%run StructMatchGap3.ipynb\n",
    "matchMatrix, gapSeqList = structMatchGap(align_dict, BASE)"
   ]
  },
  {
   "cell_type": "code",
   "execution_count": 6,
   "metadata": {
    "collapsed": true
   },
   "outputs": [],
   "source": [
    "# 4. Get stageMatrix \n",
    "# (in: matchMatrix, gapSeqList; out: stageMatrix)\n",
    "\n",
    "% run StageMatrix.ipynb\n",
    "stageMatrixResult = stageMatrix(matchMatrix, gapSeqList)"
   ]
  },
  {
   "cell_type": "code",
   "execution_count": 7,
   "metadata": {},
   "outputs": [
    {
     "name": "stdout",
     "output_type": "stream",
     "text": [
      "total segment: 30\n"
     ]
    }
   ],
   "source": [
    "#  5. Get Motif Elements\n",
    "# (in: stageMatrixResult, BASE; out: Motif object)\n",
    "\n",
    "% run Motif.ipynb\n",
    "Motif = Motif(stageMatrixResult, BASE)"
   ]
  },
  {
   "cell_type": "code",
   "execution_count": 8,
   "metadata": {
    "collapsed": true
   },
   "outputs": [],
   "source": [
    "######  Garbage Code  -->>>  Work around only!   #####\n",
    "###  WJ:  I don't know why do this!?\n",
    "\n",
    "#with open('docs/label_dict-m2t-t2m-2014.pickle', 'rb') as f:\n",
    "#    label_dict = pickle.load(f)[1] #(proc_list,proc_dict,label_list, label_dict)\n",
    "#label_dict = {k[:-len('.trace.hooklog')]:label_dict[k] for k in label_dict}\n",
    "\n",
    "# MIKE: 20170808, I comment it. Need to come back again.\n",
    "label_dict = dict()"
   ]
  },
  {
   "cell_type": "code",
   "execution_count": 9,
   "metadata": {},
   "outputs": [
    {
     "name": "stdout",
     "output_type": "stream",
     "text": [
      "==Starting drawing stages==\n",
      "---Node Build Done---\n",
      "0 stage\n",
      "1 stage\n",
      "2 stage\n",
      "3 stage\n",
      "4 stage\n",
      "5 stage\n",
      "6 stage\n",
      "7 stage\n",
      "8 stage\n",
      "9 stage\n",
      "10 stage\n",
      "11 stage\n",
      "12 stage\n",
      "13 stage\n",
      "14 stage\n",
      "15 stage\n",
      "16 stage\n",
      "17 stage\n",
      "18 stage\n",
      "19 stage\n",
      "20 stage\n",
      "21 stage\n",
      "\n",
      "\tgap:  M4\n",
      "---Node connect done---\n",
      "---Set Label Done---\n",
      "---Save Output Done---\n",
      "==Starting drawing motifs==\n",
      "---Save featureProfile Plot done---\n",
      "---Save MotifLen Prob Plot done---\n",
      "---Save Distinct motif Plot done---\n"
     ]
    },
    {
     "data": {
      "text/plain": [
       "<__main__.OutputMotiGraph at 0x5015eb8>"
      ]
     },
     "execution_count": 9,
     "metadata": {},
     "output_type": "execute_result"
    }
   ],
   "source": [
    "## Drawing stages graphs\n",
    "## output into 'outputPath'\n",
    "\n",
    "% run OutputStageBarchart3.ipynb\n",
    "if not os.path.isdir(outputPath): os.makedirs(outputPath)\n",
    "outputStage = OutputStage( stageMatrixResult, outputPath, BASE, Motif ) # output stages graphs\n",
    "OutputMotiGraph(stageMatrixResult, BASE, fp_dict, outputStage, outputPath, Motif, label_dict) # output motif graphs"
   ]
  },
  {
   "cell_type": "code",
   "execution_count": 10,
   "metadata": {},
   "outputs": [
    {
     "name": "stdout",
     "output_type": "stream",
     "text": [
      "==Calculate common moitf==\n",
      "--- 1 set CommontMotif dict fin---\n",
      "--- 2 set DistinctMotif dict fin---\n",
      "==Analyzing common motif resources==\n",
      "---1 Set API Done---\n",
      "---2 Set SC_API res done---\n",
      "\ttest for codeblock\n",
      "---3 Check Motif subset---\n",
      "---4 Set Res Statistics---\n",
      "---5 Set Winnow res---\n"
     ]
    }
   ],
   "source": [
    "## Output common motif analysis\n",
    "# output into 'outputPath'\n",
    "\n",
    "% run CommonMotifAnalysis3.ipynb\n",
    "motiDict = MotiDict(stageMatrixResult, Motif, execTrace_dict, outputStage)\n",
    "comMotif = motiDict.getComMoti()\n",
    "comResAnalysis = ComResAnalysis(comMotif)"
   ]
  },
  {
   "cell_type": "code",
   "execution_count": 11,
   "metadata": {},
   "outputs": [
    {
     "name": "stdout",
     "output_type": "stream",
     "text": [
      "==Output CSVs==\n",
      "--- 1.1 output StageMotiCsv---\n",
      "--- 1.2 output TotalResCsv---\n",
      "--- 2.1 output CatGraph---\n",
      "--- 2.2 output ComMotiDetailAPI---\n",
      "--- 2.3 output ResAPIcatStatCsv---\n"
     ]
    },
    {
     "data": {
      "text/plain": [
       "<__main__.OutputComMotiAnaly at 0x723a198>"
      ]
     },
     "execution_count": 11,
     "metadata": {},
     "output_type": "execute_result"
    }
   ],
   "source": [
    "% run OutputCommonMotif3.ipynb\n",
    "OutputCsv(outputPath, comResAnalysis, stageMatrixResult, Motif, BASE, execTrace_dict, outputStage)\n",
    "OutputComMotiAnaly(comResAnalysis, outputPath)"
   ]
  }
 ],
 "metadata": {
  "kernelspec": {
   "display_name": "Python 3",
   "language": "python",
   "name": "python3"
  },
  "language_info": {
   "codemirror_mode": {
    "name": "ipython",
    "version": 3
   },
   "file_extension": ".py",
   "mimetype": "text/x-python",
   "name": "python",
   "nbconvert_exporter": "python",
   "pygments_lexer": "ipython3",
   "version": "3.4.5"
  }
 },
 "nbformat": 4,
 "nbformat_minor": 2
}
