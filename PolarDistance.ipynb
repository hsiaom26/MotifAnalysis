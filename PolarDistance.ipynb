{
 "cells": [
  {
   "cell_type": "code",
   "execution_count": 56,
   "metadata": {},
   "outputs": [],
   "source": [
    "import math"
   ]
  },
  {
   "cell_type": "code",
   "execution_count": 57,
   "metadata": {},
   "outputs": [],
   "source": [
    "def innerProduct(vector1, vector2):\n",
    "    if(len(vector1) != len(vector2)):\n",
    "        raise ValueError(\"two vectors length not equal: {} , {}\".format(vector1, vector2))\n",
    "    return sum(i[0] * i[1] for i in zip(vector1, vector2))"
   ]
  },
  {
   "cell_type": "code",
   "execution_count": 58,
   "metadata": {},
   "outputs": [],
   "source": [
    "def countGramFrequency(node):\n",
    "    fre = dict()\n",
    "    for gram in node:\n",
    "        if gram in fre:\n",
    "            fre[gram] += 1\n",
    "        else:\n",
    "            fre[gram] = 1\n",
    "    return fre"
   ]
  },
  {
   "cell_type": "code",
   "execution_count": 59,
   "metadata": {},
   "outputs": [],
   "source": [
    "# check diff and complement zero into gramFrequency_dict\n",
    "def checkComplementGram(gramFrequency_dict, unionGram):\n",
    "    for uGram in unionGram:\n",
    "        if uGram not in gramFrequency_dict.keys():\n",
    "            gramFrequency_dict[uGram] = 0\n",
    "    return gramFrequency_dict"
   ]
  },
  {
   "cell_type": "code",
   "execution_count": 60,
   "metadata": {},
   "outputs": [],
   "source": [
    "def getUniLength(frequencyList):\n",
    "    freqSquare = list(map(lambda num: num**2, frequencyList))\n",
    "    return math.sqrt(sum(freqSquare))"
   ]
  },
  {
   "cell_type": "code",
   "execution_count": 61,
   "metadata": {},
   "outputs": [],
   "source": [
    "def doLengthNormalized(dotProduct, freq1, freq2):\n",
    "    len1 = getUniLength(freq1)\n",
    "    len2 = getUniLength(freq2)\n",
    "    return dotProduct/(len1*len2)"
   ]
  },
  {
   "cell_type": "code",
   "execution_count": 110,
   "metadata": {},
   "outputs": [],
   "source": [
    "\n",
    "def getNormalizedPolarDistance(node1, node2):\n",
    "    unionGram = set().union(node1,node2)\n",
    "    gramFrequency_dict1 = countGramFrequency(node1)\n",
    "    gramFrequency_dict2 = countGramFrequency(node2)\n",
    "    \n",
    "    gramFrequency_dict1 = checkComplementGram(gramFrequency_dict1, unionGram)\n",
    "    gramFrequency_dict2 = checkComplementGram(gramFrequency_dict2, unionGram)\n",
    "    \n",
    "    listOfGF1 = sorted(gramFrequency_dict1.items(), key=lambda i: i[0])\n",
    "    listOfGF2 = sorted(gramFrequency_dict2.items(), key=lambda i: i[0])\n",
    "    print(listOfGF1)\n",
    "    print(listOfGF2)\n",
    "    freq1 = [ item[1] for item in listOfGF1]\n",
    "    freq2 = [ item[1] for item in listOfGF2]\n",
    "    \n",
    "    dotProduct = innerProduct(freq1, freq2) # do inner product of two frequency vectors\n",
    "    normalizedDistance = doLengthNormalized(dotProduct, freq1, freq2)\n",
    "    print(normalizedDistance)\n",
    "    polarDistance = (1/math.pi) * math.acos(normalizedDistance)\n",
    "    \n",
    "    return polarDistance\n",
    "    "
   ]
  },
  {
   "cell_type": "code",
   "execution_count": 111,
   "metadata": {},
   "outputs": [
    {
     "name": "stdout",
     "output_type": "stream",
     "text": [
      "[('abc', 1), ('abca', 0)]\n",
      "[('abc', 0), ('abca', 1)]\n",
      "0.0\n"
     ]
    },
    {
     "data": {
      "text/plain": [
       "0.5"
      ]
     },
     "execution_count": 111,
     "metadata": {},
     "output_type": "execute_result"
    }
   ],
   "source": [
    "l1 = [\"abc\"]\n",
    "l2 = [\"abca\"]\n",
    "\n",
    "getNormalizedPolarDistance(l1,l2)"
   ]
  },
  {
   "cell_type": "code",
   "execution_count": 81,
   "metadata": {},
   "outputs": [
    {
     "data": {
      "text/plain": [
       "1.0"
      ]
     },
     "execution_count": 81,
     "metadata": {},
     "output_type": "execute_result"
    }
   ],
   "source": [
    "def getCosineSimilarity(node1, node2):\n",
    "    unionGram = set().union(node1,node2)\n",
    "    gramFrequency_dict1 = countGramFrequency(node1)\n",
    "    gramFrequency_dict2 = countGramFrequency(node2)\n",
    "    \n",
    "    gramFrequency_dict1 = checkComplementGram(gramFrequency_dict1, unionGram)\n",
    "    gramFrequency_dict2 = checkComplementGram(gramFrequency_dict2, unionGram)\n",
    "    \n",
    "    listOfGF1 = sorted(gramFrequency_dict1.items(), key=lambda i: i[0])\n",
    "    listOfGF2 = sorted(gramFrequency_dict2.items(), key=lambda i: i[0])\n",
    "    \n",
    "    freq1 = [ item[1] for item in listOfGF1]\n",
    "    freq2 = [ item[1] for item in listOfGF2]\n",
    "    \n",
    "    dotProduct = innerProduct(freq1, freq2) # do inner product of two frequency vectors\n",
    "    cosineSimilarity = doLengthNormalized(dotProduct, freq1, freq2)\n",
    "    \n",
    "    return cosineSimilarity"
   ]
  }
 ],
 "metadata": {
  "kernelspec": {
   "display_name": "Python 3",
   "language": "python",
   "name": "python3"
  },
  "language_info": {
   "codemirror_mode": {
    "name": "ipython",
    "version": 3
   },
   "file_extension": ".py",
   "mimetype": "text/x-python",
   "name": "python",
   "nbconvert_exporter": "python",
   "pygments_lexer": "ipython3",
   "version": "3.4.5"
  }
 },
 "nbformat": 4,
 "nbformat_minor": 2
}
