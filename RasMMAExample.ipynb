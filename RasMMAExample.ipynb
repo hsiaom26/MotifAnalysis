{
 "cells": [
  {
   "cell_type": "markdown",
   "metadata": {},
   "source": [
    "## RasMMA usage\n",
    "Usage of RasMMA.ipynb\n",
    "\n",
    "### Set Variable \n",
    "set variables before running codes:\n",
    "data_directory, tag, outputPath\n",
    "\n",
    "### Want to get clustering results\n",
    "##### run startClustering() function.\n",
    "\n",
    "It call do_RasMMA_clustering() function in RasMMA.ipynb which output 2 results : intermediatePool, initialNames.\n",
    "\n",
    "##### intermediatePool: the intermediates of clustering which is a dict\n",
    "##### initialNames: a dict which contains the original names of basic group(start from G0 to G_inputHooklogNumber)\n",
    "\n",
    "in the startClustering() function will output 2 pickles to outputPath which helping further usage.\n",
    "\n",
    "### Want to draw hierarchy graph of clustering result\n",
    "##### run drawClusteringResults() function.\n",
    "\n",
    "It read the pickles of clustering results and draw graphs using matplotlib."
   ]
  },
  {
   "cell_type": "code",
   "execution_count": 1,
   "metadata": {
    "collapsed": true
   },
   "outputs": [],
   "source": [
    "# reverse clusterID by hooklogName\n",
    "\n",
    "def findClusterID(nameDict, hooklogName):\n",
    "    for key, value in nameDict.items():\n",
    "        if(value == hooklogName):\n",
    "            return key\n",
    "    return hooklogName"
   ]
  },
  {
   "cell_type": "code",
   "execution_count": 2,
   "metadata": {
    "collapsed": true
   },
   "outputs": [],
   "source": [
    "def getInitialNameDict(initialDict):\n",
    "    nameDict = dict()\n",
    "    for key, value in initialDict.items():\n",
    "        name = value[0]\n",
    "        nameDict[key] = name\n",
    "    return nameDict"
   ]
  },
  {
   "cell_type": "code",
   "execution_count": 3,
   "metadata": {
    "collapsed": true
   },
   "outputs": [],
   "source": [
    "# z[0] = g1,  z[1] = g2,  z[2] = 高度\n",
    "# Create structure Z\n",
    "\n",
    "def createStructZ(intermediate_dict, nameDict):\n",
    "    import numpy as np\n",
    "    Z = np.zeros((len(intermediate_dict)+1 ,4))\n",
    "    intermediate_list = sorted(intermediate_dict.items(), key=lambda x:x[0])\n",
    "    iterCounter = 0\n",
    "    \n",
    "    for item in intermediate_list:\n",
    "        value = item[1] # get original dict value\n",
    "        score = value[0]\n",
    "        height = 1 - score # get cluster distance\n",
    "        clusterName = value[1][0]\n",
    "        memberSet = value[2] # members set\n",
    "        memberList = getMemberList(memberSet, nameDict)\n",
    "        print(clusterName,\" : \", score,\" - \", memberList)\n",
    "        member1 = memberList[0][1::]\n",
    "        member2 = memberList[-1][1::]\n",
    "        Z[iterCounter] = [member1, member2, height, len(memberList)] # set Z element\n",
    "        iterCounter+=1\n",
    "\n",
    "    return Z"
   ]
  },
  {
   "cell_type": "code",
   "execution_count": 4,
   "metadata": {
    "collapsed": true
   },
   "outputs": [],
   "source": [
    "# convert memberSet to List type\n",
    "\n",
    "def getMemberList(memberSet, nameDict):\n",
    "    memberList = list()\n",
    "    while(len(memberSet)>0):\n",
    "        member = memberSet.pop()\n",
    "        clusterID = findClusterID(nameDict, member)\n",
    "        memberList.append(clusterID)\n",
    "    return memberList"
   ]
  },
  {
   "cell_type": "code",
   "execution_count": 5,
   "metadata": {
    "collapsed": true
   },
   "outputs": [],
   "source": [
    "def createLabelList(nameDict):\n",
    "    dict_keys = list(nameDict.keys())\n",
    "    dict_keys.sort(key=lambda tup: int(tup[1::] )) # sort keys by number in clusterName (i.e., '31' in 'G31')\n",
    "    \n",
    "    labelList = list()\n",
    "    for key in dict_keys:\n",
    "        labelList.append( nameDict[key] )\n",
    "    \n",
    "    return labelList"
   ]
  },
  {
   "cell_type": "code",
   "execution_count": 6,
   "metadata": {
    "collapsed": true
   },
   "outputs": [],
   "source": [
    "# do clustering and output two pickle files. (@_intermediate.pickle and @_nameDict.pickle)\n",
    "% run RasMMA.ipynb\n",
    "import os\n",
    "\n",
    "def startClustering(data_directory, tag, outputPath, thresholdValue=None):\n",
    "    \n",
    "    if not os.listdir(data_directory):\n",
    "        print(\"Data Empty\")\n",
    "        return\n",
    "    \n",
    "    # Create Directories if didn't exist\n",
    "    if not os.path.isdir(outputPath): os.makedirs(outputPath)\n",
    "    \n",
    "    intermediatePool, initialDict, roundInfos, residual = do_RasMMA_clustering(data_directory,\n",
    "                                                                               tag,\n",
    "                                                                               outputPath,\n",
    "                                                                               thresholdValue)\n",
    "\n",
    "    pickleDir = outputPath + \"pickle/\"\n",
    "    if not os.path.isdir(pickleDir): os.makedirs(pickleDir)\n",
    "    \n",
    "    # saving intermediatePool as pickle file\n",
    "    with open(pickleDir + tag + '_intermediate.pickle', 'wb') as handle:\n",
    "        pickle.dump(intermediatePool, handle, protocol=pickle.HIGHEST_PROTOCOL)\n",
    "\n",
    "    # saving initialNames dict as pickle file\n",
    "    with open(pickleDir + tag + '_initialDict.pickle', 'wb') as handle:\n",
    "        pickle.dump(initialDict, handle, protocol=pickle.HIGHEST_PROTOCOL)\n",
    "        \n",
    "    # saving round information dict as pickle file\n",
    "    with open(pickleDir + tag + '_roundInfos.pickle', 'wb') as handle:\n",
    "        pickle.dump(roundInfos, handle, protocol=pickle.HIGHEST_PROTOCOL)\n",
    "        \n",
    "    if(residual is not None):\n",
    "        # saving round information dict as pickle file\n",
    "        with open(pickleDir + tag + '_residual.pickle', 'wb') as handle:\n",
    "            pickle.dump(residual, handle, protocol=pickle.HIGHEST_PROTOCOL)"
   ]
  },
  {
   "cell_type": "markdown",
   "metadata": {},
   "source": [
    "## Main Cell\n",
    "usage example of get clustering results"
   ]
  },
  {
   "cell_type": "code",
   "execution_count": 7,
   "metadata": {
    "scrolled": false
   },
   "outputs": [
    {
     "name": "stdout",
     "output_type": "stream",
     "text": [
      "2018-Jun-17 17:25\n",
      "-- Finish Initializing --\n",
      "-- Start Clustering --\n",
      "Threshold set = 0.8\n",
      "Round:  1\n",
      "ScoreList Length in method :  3\n",
      "generatedSeqNum now:  4\n",
      "Round:  2\n",
      "ScoreList Length in method :  1\n",
      "generatedSeqNum now:  5\n",
      "Round:  3\n",
      "-- Finish Clustering --\n",
      "-- Clean Temp Pickle Files --\n",
      "2018-Jun-17 17:25\n"
     ]
    }
   ],
   "source": [
    "# basic global inputs variable\n",
    "def main(data_directory, tag, outputPath, manualThresholdNumber):\n",
    "    import datetime\n",
    "    date_time = datetime.datetime.now()\n",
    "    print(date_time.strftime(\"%Y-%b-%d %H:%M\"))\n",
    "    startClustering(data_directory, tag, outputPath, manualThresholdNumber)\n",
    "    date_time = datetime.datetime.now()\n",
    "    print(date_time.strftime(\"%Y-%b-%d %H:%M\"))\n",
    "\n",
    "\n",
    "manualThresholdNumber = 0.8 # defined the threshold of merge score\n",
    "familyName = \"eggnog\"\n",
    "data_directory = \"11952data/\"+ familyName +\"/\" # data trace directory\n",
    "tag = familyName + \"_0.8\" # used for pickle name\n",
    "outputPath = \"output/RasMMA-test/\" + tag + \"/\"\n",
    "pickleDir = outputPath + \"pickle/\"\n",
    "\n",
    "main(data_directory, tag, outputPath, manualThresholdNumber)"
   ]
  },
  {
   "cell_type": "markdown",
   "metadata": {},
   "source": [
    "### Below cell used to write csv - _groupInfo, _decendants, _motifs\n",
    "groupInfo.csv can see merge score."
   ]
  },
  {
   "cell_type": "code",
   "execution_count": 11,
   "metadata": {},
   "outputs": [],
   "source": [
    "import pickle\n",
    "\n",
    "# read the results from pickle files\n",
    "with open(pickleDir + tag + '_intermediate.pickle', 'rb') as handle:\n",
    "    intermediate = pickle.load(handle)\n",
    "with open(pickleDir + tag + '_initialDict.pickle', 'rb') as handle:\n",
    "    initialDict = pickle.load(handle)\n",
    "with open(pickleDir + tag + '_roundInfos.pickle', 'rb') as handle:\n",
    "    roundInfos = pickle.load(handle)\n",
    "    \n",
    "# calculate motif lengths of all common motifs\n",
    "def getMotifsLengthList(motifs):\n",
    "    motifLens = list()\n",
    "    for motif in motifs:\n",
    "        mLen = len(motif)\n",
    "        motifLens.append(mLen)\n",
    "    return motifLens\n",
    "\n",
    "def findGeneratedRoundNumber(clusterName, roundInfosDict):\n",
    "    for key, value in roundInfosDict.items():\n",
    "        if clusterName in value:\n",
    "            return key\n",
    "    return -1\n",
    "\n",
    "import csv\n",
    "\n",
    "descendant_dict = dict()\n",
    "groupInfo_list = list()\n",
    "groupMotif_dict = dict()\n",
    "\n",
    "intermediate_list = sorted(intermediate.items(), key=lambda x : x[0])\n",
    "for item in intermediate_list:\n",
    "    value = item[1] # get original dict value\n",
    "    score = value[0]\n",
    "    clusterName = value[1][0]\n",
    "    memberSet = value[2]\n",
    "    motifs = value[1][1]\n",
    "    \n",
    "    # calculate motif lengths of all common motifs\n",
    "    motifsLens = getMotifsLengthList(motifs) # is a list of numbers\n",
    "    totalMotifLen = sum(motifsLens) # sum the list\n",
    "\n",
    "    motifsCount = len(motifs)\n",
    "    \n",
    "    descendants = set()\n",
    "    for member in memberSet:\n",
    "        if member[0] == \"G\":\n",
    "            for descendant in descendant_dict[member]:\n",
    "                descendants.add(descendant)\n",
    "        else:\n",
    "            descendants.add(member)\n",
    "        \n",
    "    descendant_dict[clusterName] = descendants\n",
    "    \n",
    "    \n",
    "    groupMotif_dict[clusterName] = motifs\n",
    "    roundNumber = findGeneratedRoundNumber(clusterName, roundInfos)\n",
    "    groupInfo_list.append((roundNumber, clusterName, score, memberSet, motifsCount, motifsLens, totalMotifLen))\n",
    "\n",
    "with open(pickleDir + tag + \"_descendant.pickle\", 'wb') as f:\n",
    "    pickle.dump(descendant_dict, f, protocol=pickle.HIGHEST_PROTOCOL)\n",
    "\n",
    "# write file \"GroupInfo.csv\" :  clusterName, score, members, motifCount, common motifs length list\n",
    "with open(outputPath + tag + \"_GroupInfo.csv\", 'w', newline='') as infoFile:\n",
    "    spamwriter = csv.writer(infoFile, delimiter=',',\n",
    "                            quotechar='\"', quoting=csv.QUOTE_MINIMAL)\n",
    "    header = [\"Round\", \"ClusterName\", \"SimilarityScore\", \"Members\", \"MotifsCount\", \"Motifs_Length\", \"Total_MotifLength\"]\n",
    "    spamwriter.writerow(header)\n",
    "    \n",
    "    # write initial cluster informations(i.e., hooklogs)\n",
    "    for key in sorted(initialDict.keys(), key = lambda x : int(x[1::])):\n",
    "        # something like this: (0, \"G1\", \"N/A\", \"abc\", 1, 109)\n",
    "        originDataRow = (0, key, \"N/A\", initialDict[key][0], 1, initialDict[key][1], initialDict[key][1])\n",
    "        spamwriter.writerow(originDataRow)\n",
    "        \n",
    "    # write cluster informations\n",
    "    for group in groupInfo_list:\n",
    "        spamwriter.writerow(group)\n",
    "        \n",
    "with open(outputPath + tag + \"_Descendants.csv\", \"w\", newline='') as descFile:\n",
    "    spamwriter = csv.writer(descFile, delimiter=',',\n",
    "                            quotechar='\"', quoting=csv.QUOTE_MINIMAL)\n",
    "    header = [\"ClusterName\", \"Descendant Counts\", \"Descendants\"]\n",
    "    spamwriter.writerow(header)\n",
    "    for key in sorted(descendant_dict.keys(), key = lambda x : int(x[1::])):\n",
    "        row = (key, len(descendant_dict[key]), descendant_dict[key])\n",
    "        spamwriter.writerow(row)\n",
    "        \n",
    "# write file \"Motifs.csv\" :  clusterName, MotifNumber, apis\n",
    "with open(outputPath + tag + \"_Motifs.csv\", 'w', newline='', encoding='utf-8') as motifFile:\n",
    "    spamwriter = csv.writer(motifFile, delimiter=',',\n",
    "                            quotechar='\"', quoting=csv.QUOTE_MINIMAL)\n",
    "    header = [\"ClusterName\", \"MotifIndex\", \"MotifLength\", \"Common Motif APIs\"]\n",
    "    spamwriter.writerow(header)\n",
    "\n",
    "    for key in sorted(groupMotif_dict.keys(), key = lambda x : int(x[1::])):\n",
    "        group_motifs = groupMotif_dict[key]\n",
    "        motifIdx = 0\n",
    "        for motif in group_motifs:\n",
    "            firstMotifAPI = True\n",
    "            motifLen = len(motif)\n",
    "            for api in motif:\n",
    "                if(firstMotifAPI):\n",
    "                    row = (key, motifIdx, motifLen, api)\n",
    "                    firstMotifAPI = False\n",
    "                else:\n",
    "                    row = (\"\", \"\", \"\", api)\n",
    "                spamwriter.writerow(row)\n",
    "            motifIdx += 1\n",
    "            \n",
    "# output residual information of SBBGCA\n",
    "\n",
    "with open(pickleDir + tag + '_residual.pickle', 'rb') as handle:\n",
    "    residual = pickle.load(handle)\n",
    "    \n",
    "with open(outputPath + tag + \"_GroupInfo.csv\", 'a', newline='') as expandGroupInfo:\n",
    "    spamwriter = csv.writer(expandGroupInfo, delimiter=',',\n",
    "                            quotechar='\"', quoting=csv.QUOTE_MINIMAL)\n",
    "    header = [\"ClusterName\", \"Members\", \"MotifLength\"]\n",
    "    \n",
    "    spamwriter.writerow(\"\")\n",
    "    spamwriter.writerow((\"Residual Clusters:\",\"\",\"\"))\n",
    "    spamwriter.writerow(header)\n",
    "    \n",
    "    for key, value in residual.items():\n",
    "        clusterName = value[0][0]\n",
    "        motifsList = value[0][1]\n",
    "        motifLens = getMotifsLengthList(motifsList)\n",
    "        members = value[1]\n",
    "        if( len(members) == 0 ):\n",
    "            row = (clusterName, \"N/A\", motifLens)\n",
    "        else:\n",
    "            row = (clusterName, members, motifLens)\n",
    "            \n",
    "        spamwriter.writerow(row)"
   ]
  },
  {
   "cell_type": "markdown",
   "metadata": {},
   "source": [
    "### Below cell used for drawing trees."
   ]
  },
  {
   "cell_type": "code",
   "execution_count": 9,
   "metadata": {
    "collapsed": true
   },
   "outputs": [],
   "source": [
    "# draw pics\n",
    "\n",
    "def drawClusteringResults(picklePath, outputPath, tag, upgma_threshold):\n",
    "    \n",
    "    #     Dependencies\n",
    "    import pickle\n",
    "    import scipy\n",
    "    import scipy.cluster.hierarchy as sch\n",
    "    import matplotlib.pylab as plt\n",
    "    %matplotlib inline\n",
    "    \n",
    "    # read the results from pickle files\n",
    "    with open(picklePath + tag + '_intermediate.pickle', 'rb') as handle:\n",
    "        intermediate = pickle.load(handle)\n",
    "    with open(picklePath + tag + '_initialDict.pickle', 'rb') as handle:\n",
    "        initialDict = pickle.load(handle)\n",
    "    with open(picklePath + tag + '_roundInfos.pickle', 'rb') as handle:\n",
    "        roundInfos = pickle.load(handle)\n",
    "        \n",
    "    initialNameDict = getInitialNameDict(initialDict)\n",
    "    print(\"Original Names : \", initialNameDict)\n",
    "    print(\"round informations\", roundInfos)\n",
    "    \n",
    "    # It have to create the Z structure for drawing purpose.\n",
    "    Z = createStructZ(intermediate, initialNameDict)\n",
    "    \n",
    "    label_list = createLabelList(initialNameDict) # create graph labels by nameDict\n",
    "    (orig_x, orig_y) = plt.rcParams['figure.figsize']\n",
    "    plt.rcParams['figure.figsize'] = (6, 10) #---input\n",
    "\n",
    "    # P = sch.dendrogram(Z, color_threshold = upgma_threshold, orientation = 'right') # no label\n",
    "    P = sch.dendrogram(Z, color_threshold = upgma_threshold, labels = label_list, orientation = 'right')\n",
    "\n",
    "#     plt.axvline(x=upgma_threshold, linewidth=1, color='black', linestyle='--')\n",
    "    locs, labels = plt.yticks()\n",
    "    # plt.xticks(  np.arange(0,1.1,0.1)) #---Align axis-x 900(0, 0.35, 0.05) 909(0,0.6,0.1) 855(0, 0.9, 0.1)\n",
    "    plt.setp(labels, fontsize = 14)\n",
    "    plt.tight_layout()\n",
    "\n",
    "    plt.rcParams['figure.figsize'] = (orig_x, orig_y)\n",
    "    plt.savefig(outputPath+'SBBGCA_'+tag+'.pdf', dpi=300)"
   ]
  },
  {
   "cell_type": "code",
   "execution_count": 10,
   "metadata": {
    "scrolled": false
   },
   "outputs": [
    {
     "name": "stdout",
     "output_type": "stream",
     "text": [
      "Original Names :  {'G0': '02432c_3240', 'G1': '0b54bf_3260', 'G2': 'cfd1ac_3296'}\n",
      "round informations {0: ['G0', 'G1', 'G2'], 1: ['G3'], 2: ['G4']}\n",
      "G3  :  0.9818181818181818  -  ['G1', 'G2']\n",
      "G4  :  0.9636363636363636  -  ['G0', 'G3']\n"
     ]
    },
    {
     "ename": "ValueError",
     "evalue": "Linkage 'Z' uses the same cluster more than once.",
     "output_type": "error",
     "traceback": [
      "\u001b[1;31m---------------------------------------------------------------------------\u001b[0m",
      "\u001b[1;31mValueError\u001b[0m                                Traceback (most recent call last)",
      "\u001b[1;32m<ipython-input-10-b54ed80127d4>\u001b[0m in \u001b[0;36m<module>\u001b[1;34m()\u001b[0m\n\u001b[0;32m      5\u001b[0m \u001b[0moutputPath\u001b[0m \u001b[1;33m=\u001b[0m \u001b[1;34m\"output/RasMMA-test/\"\u001b[0m\u001b[1;33m+\u001b[0m\u001b[0mtag\u001b[0m\u001b[1;33m+\u001b[0m\u001b[1;34m\"/\"\u001b[0m\u001b[1;33m\u001b[0m\u001b[0m\n\u001b[0;32m      6\u001b[0m \u001b[0mpickleDir\u001b[0m \u001b[1;33m=\u001b[0m \u001b[0moutputPath\u001b[0m \u001b[1;33m+\u001b[0m \u001b[1;34m\"pickle/\"\u001b[0m\u001b[1;33m\u001b[0m\u001b[0m\n\u001b[1;32m----> 7\u001b[1;33m \u001b[0mdrawClusteringResults\u001b[0m\u001b[1;33m(\u001b[0m\u001b[0mpickleDir\u001b[0m\u001b[1;33m,\u001b[0m \u001b[0moutputPath\u001b[0m\u001b[1;33m,\u001b[0m \u001b[0mtag\u001b[0m\u001b[1;33m,\u001b[0m \u001b[1;36m0.01\u001b[0m\u001b[1;33m)\u001b[0m\u001b[1;33m\u001b[0m\u001b[0m\n\u001b[0m",
      "\u001b[1;32m<ipython-input-9-af832eded60a>\u001b[0m in \u001b[0;36mdrawClusteringResults\u001b[1;34m(picklePath, outputPath, tag, upgma_threshold)\u001b[0m\n\u001b[0;32m     30\u001b[0m \u001b[1;33m\u001b[0m\u001b[0m\n\u001b[0;32m     31\u001b[0m     \u001b[1;31m# P = sch.dendrogram(Z, color_threshold = upgma_threshold, orientation = 'right') # no label\u001b[0m\u001b[1;33m\u001b[0m\u001b[1;33m\u001b[0m\u001b[0m\n\u001b[1;32m---> 32\u001b[1;33m     \u001b[0mP\u001b[0m \u001b[1;33m=\u001b[0m \u001b[0msch\u001b[0m\u001b[1;33m.\u001b[0m\u001b[0mdendrogram\u001b[0m\u001b[1;33m(\u001b[0m\u001b[0mZ\u001b[0m\u001b[1;33m,\u001b[0m \u001b[0mcolor_threshold\u001b[0m \u001b[1;33m=\u001b[0m \u001b[0mupgma_threshold\u001b[0m\u001b[1;33m,\u001b[0m \u001b[0mlabels\u001b[0m \u001b[1;33m=\u001b[0m \u001b[0mlabel_list\u001b[0m\u001b[1;33m,\u001b[0m \u001b[0morientation\u001b[0m \u001b[1;33m=\u001b[0m \u001b[1;34m'right'\u001b[0m\u001b[1;33m)\u001b[0m\u001b[1;33m\u001b[0m\u001b[0m\n\u001b[0m\u001b[0;32m     33\u001b[0m \u001b[1;33m\u001b[0m\u001b[0m\n\u001b[0;32m     34\u001b[0m \u001b[1;31m#     plt.axvline(x=upgma_threshold, linewidth=1, color='black', linestyle='--')\u001b[0m\u001b[1;33m\u001b[0m\u001b[1;33m\u001b[0m\u001b[0m\n",
      "\u001b[1;32mC:\\ProgramData\\Anaconda3\\lib\\site-packages\\scipy\\cluster\\hierarchy.py\u001b[0m in \u001b[0;36mdendrogram\u001b[1;34m(Z, p, truncate_mode, color_threshold, get_leaves, orientation, labels, count_sort, distance_sort, show_leaf_counts, no_plot, no_labels, leaf_font_size, leaf_rotation, leaf_label_func, show_contracted, link_color_func, ax, above_threshold_color)\u001b[0m\n\u001b[0;32m   2294\u001b[0m                          \"'bottom', or 'right'\")\n\u001b[0;32m   2295\u001b[0m \u001b[1;33m\u001b[0m\u001b[0m\n\u001b[1;32m-> 2296\u001b[1;33m     \u001b[0mis_valid_linkage\u001b[0m\u001b[1;33m(\u001b[0m\u001b[0mZ\u001b[0m\u001b[1;33m,\u001b[0m \u001b[0mthrow\u001b[0m\u001b[1;33m=\u001b[0m\u001b[1;32mTrue\u001b[0m\u001b[1;33m,\u001b[0m \u001b[0mname\u001b[0m\u001b[1;33m=\u001b[0m\u001b[1;34m'Z'\u001b[0m\u001b[1;33m)\u001b[0m\u001b[1;33m\u001b[0m\u001b[0m\n\u001b[0m\u001b[0;32m   2297\u001b[0m     \u001b[0mZs\u001b[0m \u001b[1;33m=\u001b[0m \u001b[0mZ\u001b[0m\u001b[1;33m.\u001b[0m\u001b[0mshape\u001b[0m\u001b[1;33m\u001b[0m\u001b[0m\n\u001b[0;32m   2298\u001b[0m     \u001b[0mn\u001b[0m \u001b[1;33m=\u001b[0m \u001b[0mZs\u001b[0m\u001b[1;33m[\u001b[0m\u001b[1;36m0\u001b[0m\u001b[1;33m]\u001b[0m \u001b[1;33m+\u001b[0m \u001b[1;36m1\u001b[0m\u001b[1;33m\u001b[0m\u001b[0m\n",
      "\u001b[1;32mC:\\ProgramData\\Anaconda3\\lib\\site-packages\\scipy\\cluster\\hierarchy.py\u001b[0m in \u001b[0;36mis_valid_linkage\u001b[1;34m(Z, warning, throw, name)\u001b[0m\n\u001b[0;32m   1475\u001b[0m         \u001b[1;32mif\u001b[0m \u001b[0m_check_hierarchy_uses_cluster_more_than_once\u001b[0m\u001b[1;33m(\u001b[0m\u001b[0mZ\u001b[0m\u001b[1;33m)\u001b[0m\u001b[1;33m:\u001b[0m\u001b[1;33m\u001b[0m\u001b[0m\n\u001b[0;32m   1476\u001b[0m             raise ValueError('Linkage %suses the same cluster more than once.'\n\u001b[1;32m-> 1477\u001b[1;33m                              % name_str)\n\u001b[0m\u001b[0;32m   1478\u001b[0m     \u001b[1;32mexcept\u001b[0m \u001b[0mException\u001b[0m \u001b[1;32mas\u001b[0m \u001b[0me\u001b[0m\u001b[1;33m:\u001b[0m\u001b[1;33m\u001b[0m\u001b[0m\n\u001b[0;32m   1479\u001b[0m         \u001b[1;32mif\u001b[0m \u001b[0mthrow\u001b[0m\u001b[1;33m:\u001b[0m\u001b[1;33m\u001b[0m\u001b[0m\n",
      "\u001b[1;31mValueError\u001b[0m: Linkage 'Z' uses the same cluster more than once."
     ]
    }
   ],
   "source": [
    "# usage example of draw hierarchy graph of clustering results\n",
    "familyName = 'eggnog'\n",
    "tag = familyName + \"_0.8\" # used for pickle name\n",
    "# tag = '27fam_cross'\n",
    "outputPath = \"output/RasMMA-test/\"+tag+\"/\"\n",
    "pickleDir = outputPath + \"pickle/\"\n",
    "drawClusteringResults(pickleDir, outputPath, tag, 0.01)"
   ]
  }
 ],
 "metadata": {
  "kernelspec": {
   "display_name": "Python 3",
   "language": "python",
   "name": "python3"
  },
  "language_info": {
   "codemirror_mode": {
    "name": "ipython",
    "version": 3
   },
   "file_extension": ".py",
   "mimetype": "text/x-python",
   "name": "python",
   "nbconvert_exporter": "python",
   "pygments_lexer": "ipython3",
   "version": "3.6.3"
  }
 },
 "nbformat": 4,
 "nbformat_minor": 2
}
