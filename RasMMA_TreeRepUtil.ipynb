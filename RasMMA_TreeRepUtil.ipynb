{
 "cells": [
  {
   "cell_type": "code",
   "execution_count": 1,
   "metadata": {},
   "outputs": [],
   "source": [
    "%run CollectForestInfo.ipynb\n",
    "import csv\n",
    "import os\n",
    "import shutil"
   ]
  },
  {
   "cell_type": "code",
   "execution_count": 9,
   "metadata": {},
   "outputs": [],
   "source": [
    "analyzeFamilyName = \"bettersurf\"\n",
    "generation = \"main\"\n",
    "\n",
    "tag = analyzeFamilyName + \"_0.8\" # used for pickle name\n",
    "outputPath = \"output/RasMMA/\" + tag + \"/\" + generation + \"/\"\n",
    "pickleDir = outputPath + \"pickle/\""
   ]
  },
  {
   "cell_type": "code",
   "execution_count": 10,
   "metadata": {},
   "outputs": [
    {
     "name": "stdout",
     "output_type": "stream",
     "text": [
      "Behavior trees:  5\n",
      "process in trees:  14\n",
      "{1: 10, 2: 2}\n",
      "analyzing:  12\n"
     ]
    }
   ],
   "source": [
    "intermediatePicklePath = pickleDir + tag + '_intermediate.pickle'\n",
    "residualPicklePath = pickleDir + tag + '_residual.pickle'\n",
    "        \n",
    "forestInfo = CollectForestInfo(intermediatePicklePath,\n",
    "                               residualPicklePath,\n",
    "                               True) # one pickle is a forest\n",
    "\n",
    "treeCount = forestInfo.getTreeRootCount()\n",
    "malwrCount = forestInfo.getForestMemberCount()\n",
    "print(\"Behavior trees: \", treeCount)\n",
    "print(\"process in trees: \", malwrCount)\n",
    "\n",
    "mems = forestInfo.getForestMembers()\n",
    "# print(forestInfo.getForestMemberCount())\n",
    "\n",
    "fuck = dict()\n",
    "for m in mems:\n",
    "    name = m.split(\"_\")[0]\n",
    "    if name not in fuck.keys():\n",
    "        fuck[name] = 1\n",
    "    else:\n",
    "        fuck[name] += 1\n",
    "\n",
    "c = dict()\n",
    "for k, v in fuck.items():\n",
    "    if v not in c.keys():\n",
    "        c[v] = 1\n",
    "    else:\n",
    "        c[v] += 1\n",
    "print(c)\n",
    "nameSet = {m.split(\"_\")[0] for m in mems}\n",
    "print(\"analyzing: \",len(nameSet))"
   ]
  },
  {
   "cell_type": "code",
   "execution_count": 11,
   "metadata": {
    "scrolled": true
   },
   "outputs": [
    {
     "name": "stdout",
     "output_type": "stream",
     "text": [
      "{91,156,17,7,103}\n",
      "{6,2,2,2,2}\n"
     ]
    }
   ],
   "source": [
    "repAPISeq_dict = forestInfo.getRepAPISeq_dict()\n",
    "# repAPILenList = [len(repAPI) for tree, repAPI in repAPISeq_dict.items()]\n",
    "\n",
    "repAPILenList = list()\n",
    "trMemCountList = list()\n",
    "for tree, repAPI in repAPISeq_dict.items():\n",
    "    repAPILenList.append(len(repAPI))\n",
    "    trMemCountList.append(len(forestInfo.getTreeMembers(tree)))\n",
    "    \n",
    "opStr = \"{\"\n",
    "for l in range(len(repAPILenList)):\n",
    "    if l == len(repAPILenList) -1:\n",
    "        opStr += str(repAPILenList[l]) + \"}\"\n",
    "    else:\n",
    "        opStr+=str(repAPILenList[l]) + \",\" \n",
    "print(opStr)\n",
    "opStr2 = \"{\"\n",
    "for l in range(len(trMemCountList)):\n",
    "    if l == len(trMemCountList) -1:\n",
    "        opStr2 += str(trMemCountList[l]) + \"}\"\n",
    "    else:\n",
    "        opStr2+=str(trMemCountList[l]) + \",\" \n",
    "print(opStr2)"
   ]
  },
  {
   "cell_type": "code",
   "execution_count": 12,
   "metadata": {
    "scrolled": false
   },
   "outputs": [
    {
     "name": "stdout",
     "output_type": "stream",
     "text": [
      "Tree: G34\n",
      "Member size: 6\n",
      "Tree: G31\n",
      "Member size: 2\n",
      "Tree: G26\n",
      "Member size: 2\n",
      "Tree: G29\n",
      "Member size: 2\n",
      "Tree: G30\n",
      "Member size: 2\n",
      "Labeled Sample: 0\n",
      "Labeled Processes: 0\n"
     ]
    }
   ],
   "source": [
    "trMems = forestInfo.getTreeMembers_dict()\n",
    "sampleCount = set()\n",
    "procCount = set()\n",
    "labeled = {\"G186\" , \"G205\", \"G220\", \"G228\"} #108 98\n",
    "for tr, mems in trMems.items():\n",
    "#     print(mems)\n",
    "    if tr in labeled:\n",
    "#         print(mems)\n",
    "        for m in mems: sampleCount.add(m.split(\"_\")[0])\n",
    "        procCount.update(mems)\n",
    "    print(\"Tree:\",tr)\n",
    "    print(\"Member size:\", len(mems))\n",
    "#     print(\"API Len\", len(repAPISeq_dict[tr]))\n",
    "#         print(repAPISeq_dict[tr])\n",
    "\n",
    "print(\"Labeled Sample:\" , len(sampleCount))\n",
    "print(\"Labeled Processes:\", len(procCount))"
   ]
  },
  {
   "cell_type": "markdown",
   "metadata": {},
   "source": [
    "### Restore feature tracelog to original strings\n",
    "1. take one tree member(e.g., malware) in each cluster as baseline\n",
    "2. get the featureTrace of baseline\n",
    "3. check which index that api in baseline is the same as api in repAPISeq\n",
    "4. use index list to find original trace\n",
    "5. Output Excel File."
   ]
  },
  {
   "cell_type": "code",
   "execution_count": 13,
   "metadata": {},
   "outputs": [],
   "source": [
    "%run FeatureTrace.ipynb\n",
    "from openpyxl import load_workbook, Workbook"
   ]
  },
  {
   "cell_type": "code",
   "execution_count": 17,
   "metadata": {
    "scrolled": false
   },
   "outputs": [
    {
     "name": "stdout",
     "output_type": "stream",
     "text": [
      "Tree \t Base\n",
      "G34 : 767890997888ecd345e0def9ceca07c229aa0be39e6c6e500e8200312255138b_3300.trace.hooklog\n",
      "G31 : 6788ca60bd98ae6b1af992d4a765754815d81396b0015c72f310a06c161ad8cf_3324.trace.hooklog\n",
      "G26 : 5b689a08663ca42ce6f51d3e03508530beedf6f145c5461a3b0940ef406e09af_3340.trace.hooklog\n",
      "G29 : e9aead69c3d6c8b7546aeec10c0667dec5d7201eb5b383366535bfe67d943a8f_3200.trace.hooklog\n",
      "G30 : ab6a296e963acb670fe5f613291f7fb3223d99931221e4b9610bf5b313336a72_3348.trace.hooklog\n"
     ]
    }
   ],
   "source": [
    "data_dir = \"tracelogs_analysis_temu20/\" + analyzeFamilyName + \"/\" + generation + \"/\"\n",
    "\n",
    "treeMember_dict = forestInfo.getTreeMembers_dict()\n",
    "baseline_dict = dict()\n",
    "\n",
    "for tree in forestInfo.getTreeRootNameList():\n",
    "    members = treeMember_dict[tree]\n",
    "    for file in os.listdir(data_dir):\n",
    "        shortName = file.split(\"_\")[0][0:6]\n",
    "        pid = file.split(\"_\")[1].split(\".\")[0]\n",
    "        nickname = shortName+\"_\"+pid\n",
    "        \n",
    "        if nickname in members:\n",
    "            baseline_dict[tree] = file\n",
    "            break\n",
    "print(\"Tree \\t Base\")\n",
    "for k, v in baseline_dict.items():\n",
    "    print(k,\":\", v)"
   ]
  },
  {
   "cell_type": "code",
   "execution_count": 15,
   "metadata": {},
   "outputs": [],
   "source": [
    "import re\n",
    "FTrace = FeatureTrace # get class\n",
    "ILLEGAL_CHARACTERS_RE = re.compile(r'[\\000-\\010]|[\\013-\\014]|[\\016-\\037]')\n",
    "        \n",
    "# output to excel\n",
    "wb = Workbook()\n",
    "ws = wb.active\n",
    "\n",
    "for tree in sorted(baseline_dict.keys()):\n",
    "    baseline = baseline_dict[tree]\n",
    "    repAPI = forestInfo.getRepAPISeq(tree) # get tree rep API seq list\n",
    "    featureTrace = FTrace(data_dir + baseline).getTrace_noContainTS() # get feature Trace\n",
    "    originalTrace = FTrace(data_dir + baseline).getOriginalTrace_withoutTS() # get original Trace (selected Params)\n",
    "    \n",
    "    repToOrigin = list() # result\n",
    "    breakPoint = 0\n",
    "    # compare the api in rep and featureTrace -> find index used for original Trace\n",
    "    for api in repAPI:\n",
    "        for index in range(breakPoint, len(featureTrace)):\n",
    "            featureAPI = featureTrace[index]\n",
    "            \n",
    "            if api == featureAPI:\n",
    "                repToOrigin.append(originalTrace[index])\n",
    "                breakPoint = index + 1\n",
    "                break\n",
    "                \n",
    "    trMembers = forestInfo.getTreeMembers(tree)\n",
    "    samples = {member.split(\"_\")[0] for member in trMembers}\n",
    "    \n",
    "    # output to excel\n",
    "    ws.append([tree, \"Rep API Sequence Length:\"+str(len(repAPI)),\n",
    "               \"Covered Samples:\"+str(len(samples)), \"Covered Processes:\"+str(len(trMembers))])\n",
    "    \n",
    "    for index in range(len(repToOrigin)):\n",
    "        data = ILLEGAL_CHARACTERS_RE.sub(r'', repToOrigin[index])\n",
    "        ws.append([index+1, data])\n",
    "        \n",
    "        \n",
    "wb.save(outputPath + tag + '_origin.xlsx')"
   ]
  },
  {
   "cell_type": "markdown",
   "metadata": {},
   "source": [
    "### Copy Processes in Trees into Destination."
   ]
  },
  {
   "cell_type": "code",
   "execution_count": 16,
   "metadata": {},
   "outputs": [],
   "source": [
    "data_dir = \"tracelogs_analysis_temu20/\" + analyzeFamilyName + \"/\" + generation + \"/\" # total sample dir of family\n",
    "target_dir_base = \"tracelogs_analysis_temu20/Selected/\"+ analyzeFamilyName + \"/\" + generation + \"/\" # target dir\n",
    "\n",
    "for file in os.listdir(data_dir):\n",
    "    shortName = file.split(\"_\")[0][0:6]\n",
    "    pid = file.split(\"_\")[1][0:4]\n",
    "    nickname = shortName+\"_\"+pid\n",
    "    \n",
    "    treeMemberDict = forestInfo.getTreeMembers_dict()\n",
    "    for treeID, members in treeMemberDict.items():\n",
    "        target_dir = target_dir_base + treeID + '/'\n",
    "        if not os.path.isdir(target_dir): os.makedirs(target_dir)\n",
    "        \n",
    "        if nickname in members:\n",
    "            shutil.copy(data_dir + file, target_dir + file)\n",
    "\n",
    "#     if nickname in forestInfo.getForestMembers():\n",
    "#         if not os.path.isdir(target_dir_base): os.makedirs(target_dir_base)\n",
    "#         shutil.copy(data_dir+file, target_dir_base + file)"
   ]
  },
  {
   "cell_type": "code",
   "execution_count": null,
   "metadata": {},
   "outputs": [],
   "source": []
  }
 ],
 "metadata": {
  "kernelspec": {
   "display_name": "Python 3",
   "language": "python",
   "name": "python3"
  },
  "language_info": {
   "codemirror_mode": {
    "name": "ipython",
    "version": 3
   },
   "file_extension": ".py",
   "mimetype": "text/x-python",
   "name": "python",
   "nbconvert_exporter": "python",
   "pygments_lexer": "ipython3",
   "version": "3.4.5"
  }
 },
 "nbformat": 4,
 "nbformat_minor": 2
}
