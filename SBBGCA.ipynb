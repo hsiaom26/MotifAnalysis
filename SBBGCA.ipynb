{
 "cells": [
  {
   "cell_type": "markdown",
   "metadata": {},
   "source": [
    "# A implementation of Sequence-Based Behavior Group Clustering Algorithm\n"
   ]
  },
  {
   "cell_type": "code",
   "execution_count": 7,
   "metadata": {
    "collapsed": true
   },
   "outputs": [],
   "source": [
    "# input: two R to got Representative; clusterAppearSeq is for naming purpose. \n",
    "def get_Representative(Ri, Rj, clusterAppearSeq):\n",
    "    rep1 = list()\n",
    "    rep2 = list()\n",
    "#     rep1 = [\"A#A\",\"C#C\",\"D#C\",\"B#B\"]\n",
    "#     rep2 = [\"Z#Z\",\"A#A\",\"C#C\",\"B#B\"]\n",
    "    for i in range(len(Ri[1])): # get length of R's common motif seqs  (p.s. Ri[0] is name)\n",
    "        rep1 += Ri[1][i][0]\n",
    "    for i in range(len(Rj[1])):\n",
    "        rep2 += Rj[1][i][0]\n",
    "    \n",
    "    comMotif_dict = do_globalAlignment(rep1, rep2) # do Alignment\n",
    "    \n",
    "    repNew = list() \n",
    "    newStartIdx = 0\n",
    "    for m in sorted(comMotif_dict.keys(), key = lambda x : int(x.split('_')[0][1:])): # sorted by stages\n",
    "        cmsList = comMotif_dict[m]\n",
    "        newEndIdx = newStartIdx + len(cmsList[2]) - 1\n",
    "        repNew.append([cmsList[0], cmsList[1], cmsList[2] , newStartIdx, newEndIdx])\n",
    "                  # [CMS, oriIdxRange1, oriIdxRange2, newStartIdx, newEndIdx ]\n",
    "        newStartIdx = newEndIdx + 1\n",
    "    name = \"G\"+str(clusterAppearSeq) # naming candidateCluster\n",
    "    return (name, repNew)"
   ]
  },
  {
   "cell_type": "code",
   "execution_count": 8,
   "metadata": {},
   "outputs": [],
   "source": [
    "% run Alignment_Fast3.ipynb\n",
    "% run StructMatchGap3.ipynb\n",
    "% run StageMatrix.ipynb\n",
    "% run Motif.ipynb\n",
    "% run OutputStage.ipynb\n",
    "% run CommonMotifAnalysis_Tmp.ipynb\n",
    "\n",
    "# Doing global alignment and Calculate common motif.\n",
    "# will return a common motif dict\n",
    "def do_globalAlignment(rep1, rep2):\n",
    "    # Aligment\n",
    "    align_dict = dict()\n",
    "    BASE = \"rep1\"\n",
    "    align_dict['rep1'] = pairwise_NW( rep1, rep1, 2, -1, -3, 1)[2]\n",
    "    align_dict['rep2'] = pairwise_NW( rep1, rep2, 2, -1, -3, 1)[2]\n",
    "    \n",
    "    # get 'Match Matrix' and 'Gap List'\n",
    "    matchMatrix, gapSeqList = structMatchGap(align_dict, BASE)\n",
    "    stageMatrixResult = stageMatrix(matchMatrix, gapSeqList)\n",
    "    Motif_Obj = Motif(stageMatrixResult, BASE)\n",
    "    outputStage = OutputStage(stageMatrixResult, None, BASE, Motif_Obj)\n",
    "    \n",
    "    execTrace_dict = {\"rep1\":rep1, \"rep2\":rep2}\n",
    "    \n",
    "    commonMotif = CommonMotif(stageMatrixResult, Motif_Obj, execTrace_dict, outputStage)\n",
    "    \n",
    "    # comMotifdict= {'s<stage>_<motif>': [CMS], oriIdxRange1, oriIdxRange2},\n",
    "    comMotif_dict = commonMotif.getComMotifDict()  \n",
    "    \n",
    "    return comMotif_dict\n",
    "    \n",
    "# rep1 = [\"A#A\",\"C#C\",\"D#C\",\"B#B\"]\n",
    "# rep2 = [\"Z#Z\",\"A#A\",\"C#C\",\"B#B\"]\n",
    "# do_globalAlignment(rep1, rep2)"
   ]
  },
  {
   "cell_type": "code",
   "execution_count": 9,
   "metadata": {},
   "outputs": [
    {
     "name": "stdout",
     "output_type": "stream",
     "text": [
      "i =   0\n",
      "i =   1\n",
      "rep1 ['A#A', 'C#C', 'B#B']\n",
      "3\n",
      "total segment: 5\n",
      "No Gap.\n",
      "==Starting drawing stages==\n",
      "0 stage\n",
      "1 stage\n",
      "2 stage\n",
      "Warning!\n",
      "==Calculate common moitf==\n",
      "??? :  {0: 0, 1: 1, 2: 0}\n",
      "(['C#C'], (1, 1), (1, 1))\n",
      "--- 2 set DistinctMotif dict fin---\n",
      "m= s2_3\n",
      "('G35', [[['C#C'], (1, 1), (1, 1), 0, 1]])\n"
     ]
    }
   ],
   "source": [
    "\n",
    "Ri =('G33', [[['A#A', 'C#C'], (0, 1), (1, 2), 0, 1], [['B#B'], (3, 3), (3, 3), 2, 3]])\n",
    "Rj =('G34', [[['E#E', 'C#C'], (0, 1), (1, 2), 0, 1], [['F#F'], (3, 3), (3, 3), 2, 3]])\n",
    "Rnew = get_Representative(Ri,Rj,35)\n",
    "print(Rnew)"
   ]
  }
 ],
 "metadata": {
  "kernelspec": {
   "display_name": "Python 3",
   "language": "python",
   "name": "python3"
  },
  "language_info": {
   "codemirror_mode": {
    "name": "ipython",
    "version": 3
   },
   "file_extension": ".py",
   "mimetype": "text/x-python",
   "name": "python",
   "nbconvert_exporter": "python",
   "pygments_lexer": "ipython3",
   "version": "3.6.1"
  }
 },
 "nbformat": 4,
 "nbformat_minor": 2
}
