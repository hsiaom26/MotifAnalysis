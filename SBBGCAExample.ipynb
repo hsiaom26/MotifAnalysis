{
 "cells": [
  {
   "cell_type": "markdown",
   "metadata": {},
   "source": [
    "## SBBGCA usage\n",
    "Usage of SBBGCA.ipynb"
   ]
  },
  {
   "cell_type": "code",
   "execution_count": 1,
   "metadata": {},
   "outputs": [
    {
     "name": "stdout",
     "output_type": "stream",
     "text": [
      "-- Finish Initializing --\n",
      "-- Start Clustering --\n",
      "-- Finish Clustering --\n"
     ]
    }
   ],
   "source": [
    "% run SBBGCA.ipynb\n",
    "\n",
    "data_directory = \"hooklogs/allaple_woj_g_98/\"\n",
    "tag = \"allaple_woj_g_98\"  # used for pickle name\n",
    "outputPath = \"output/clusteringIntermediate/\"\n",
    "\n",
    "do_SBBGCA_clustering(data_directory, tag, outputPath)"
   ]
  },
  {
   "cell_type": "code",
   "execution_count": null,
   "metadata": {
    "collapsed": true
   },
   "outputs": [],
   "source": [
    "import pickle\n",
    "with open(outputPath + tag + '.pickle', 'rb') as handle:\n",
    "    intermediate = pickle.load(handle)\n",
    "    \n",
    "print(intermediate)"
   ]
  }
 ],
 "metadata": {
  "kernelspec": {
   "display_name": "Python 3",
   "language": "python",
   "name": "python3"
  },
  "language_info": {
   "codemirror_mode": {
    "name": "ipython",
    "version": 3
   },
   "file_extension": ".py",
   "mimetype": "text/x-python",
   "name": "python",
   "nbconvert_exporter": "python",
   "pygments_lexer": "ipython3",
   "version": "3.6.1"
  }
 },
 "nbformat": 4,
 "nbformat_minor": 2
}
