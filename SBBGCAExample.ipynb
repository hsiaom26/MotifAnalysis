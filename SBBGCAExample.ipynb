{
 "cells": [
  {
   "cell_type": "markdown",
   "metadata": {},
   "source": [
    "## SBBGCA usage\n",
    "Usage of SBBGCA.ipynb\n",
    "\n",
    "### Set Variable \n",
    "set variables before running codes:\n",
    "data_directory, tag, outputPath\n",
    "\n",
    "### Want to get clustering results\n",
    "##### run startClustering() function.\n",
    "\n",
    "It call do_SBBGCA_clustering() function in SBBGAC.ipynb which output 2 results : intermediatePool, initialNames.\n",
    "\n",
    "##### intermediatePool: the intermediates of clustering which is a dict\n",
    "##### initialNames: a dict which contains the original names of basic group(start from G0 to G_inputHooklogNumber)\n",
    "\n",
    "in the startClustering() function will output 2 pickles to outputPath which helping further usage.\n",
    "(Because the performance of SBBGCA is terrible Q_Q)\n",
    "\n",
    "### Want to draw hierarchy graph of clustering result\n",
    "##### run drawClusteringResults() function.\n",
    "\n",
    "It read the pickles of clustering results and draw graphs using matplotlib."
   ]
  },
  {
   "cell_type": "code",
   "execution_count": 1,
   "metadata": {
    "collapsed": true
   },
   "outputs": [],
   "source": [
    "# basic global inputs variable\n",
    "\n",
    "data_directory = \"hooklogs/allaple_woj_g_98/\"\n",
    "tag = \"allaple_woj_g_98\"  # used for pickle name\n",
    "outputPath = \"output/SBBGCA_Clustering/allaple_woj_g_98/\""
   ]
  },
  {
   "cell_type": "code",
   "execution_count": 2,
   "metadata": {
    "collapsed": true
   },
   "outputs": [],
   "source": [
    "# reverse clusterID by hooklogName\n",
    "\n",
    "def findClusterID(nameDict, hooklogName):\n",
    "    for key, value in nameDict.items():\n",
    "        if(value == hooklogName):\n",
    "            return key\n",
    "    return hooklogName"
   ]
  },
  {
   "cell_type": "code",
   "execution_count": 3,
   "metadata": {
    "collapsed": true
   },
   "outputs": [],
   "source": [
    "# convert memberSet to List type\n",
    "\n",
    "def getMemberList(memberSet, nameDict):\n",
    "    memberList = list()\n",
    "    while(len(memberSet)>0):\n",
    "        member = memberSet.pop()\n",
    "        clusterID = findClusterID(nameDict, member)\n",
    "        memberList.append(clusterID)\n",
    "    return memberList"
   ]
  },
  {
   "cell_type": "code",
   "execution_count": 4,
   "metadata": {
    "collapsed": true
   },
   "outputs": [],
   "source": [
    "# z[0] = g1,  z[1] = g2,  z[2] = 高度\n",
    "# Create structure Z\n",
    "\n",
    "def createStructZ(intermediate_dict, nameDict):\n",
    "    import numpy as np\n",
    "    Z = np.zeros((len(intermediate_dict) ,4))\n",
    "    \n",
    "    intermediate_list = sorted(intermediate_dict.items(), key=lambda x:x[0])\n",
    "    \n",
    "    iterCounter = 0\n",
    "    for item in intermediate_list:\n",
    "        value = item[1] # get original dict value\n",
    "        score = value[0]\n",
    "        height = 1 - score # get cluster distance\n",
    "        clusterName = value[1][0]\n",
    "        memberSet = value[2] # members set\n",
    "        memberList = getMemberList(memberSet, nameDict)\n",
    "        print(clusterName, \" : \", memberList)\n",
    "        member1 = memberList[0][1::]\n",
    "        member2 = memberList[1][1::]\n",
    "        \n",
    "        Z[iterCounter] = [member1, member2, height, len(memberList)] # set Z element\n",
    "        iterCounter+=1\n",
    "        \n",
    "    return Z"
   ]
  },
  {
   "cell_type": "code",
   "execution_count": 5,
   "metadata": {
    "collapsed": true
   },
   "outputs": [],
   "source": [
    "def createLabelList(nameDict):\n",
    "    dict_keys = list(nameDict.keys())\n",
    "    dict_keys.sort(key=lambda tup:tup[1::])\n",
    "    \n",
    "    labelList = list()\n",
    "    for key in dict_keys:\n",
    "        labelList.append( nameDict[key] )\n",
    "    \n",
    "    return labelList"
   ]
  },
  {
   "cell_type": "code",
   "execution_count": 6,
   "metadata": {
    "collapsed": true
   },
   "outputs": [],
   "source": [
    "# do clustering and output two pickle files. (@_intermediate.pickle and @_nameDict.pickle)\n",
    "% run SBBGCA.ipynb\n",
    "\n",
    "def startClustering(data_directory, tag, outputPath):\n",
    "    if not os.path.isdir(outputPath): os.makedirs(outputPath) # create output path Directory\n",
    "    \n",
    "    intermediatePool, initialNames = do_SBBGCA_clustering(data_directory, tag, outputPath)\n",
    "\n",
    "    # saving intermediatePool as pickle file\n",
    "    if not os.path.isdir(outputPath): os.makedirs(outputPath)\n",
    "    with open(outputPath + tag + '_intermediate.pickle', 'wb') as handle:\n",
    "        pickle.dump(intermediatePool, handle, protocol=pickle.HIGHEST_PROTOCOL)\n",
    "\n",
    "    # saving initialNames dict as pickle file\n",
    "    with open(outputPath + tag + '_nameDict.pickle', 'wb') as handle:\n",
    "        pickle.dump(initialNames, handle, protocol=pickle.HIGHEST_PROTOCOL)"
   ]
  },
  {
   "cell_type": "code",
   "execution_count": 7,
   "metadata": {
    "collapsed": true
   },
   "outputs": [],
   "source": [
    "# draw pics\n",
    "\n",
    "def drawClusteringResults(outputPath, tag, upgma_threshold):\n",
    "    \n",
    "    #     Dependencies\n",
    "    import pickle\n",
    "    import scipy\n",
    "    import scipy.cluster.hierarchy as sch\n",
    "    import matplotlib.pylab as plt\n",
    "    %matplotlib inline\n",
    "    \n",
    "    # read the results from pickle files\n",
    "    with open(outputPath + tag + '_intermediate.pickle', 'rb') as handle:\n",
    "        intermediate = pickle.load(handle)\n",
    "    with open(outputPath + tag + '_nameDict.pickle', 'rb') as handle:\n",
    "        nameDict = pickle.load(handle)\n",
    "    print(\"Original Names : \", nameDict)\n",
    "    \n",
    "    # It have to create the Z structure for drawing purpose.\n",
    "    Z = createStructZ(intermediate, nameDict)\n",
    "    \n",
    "    label_list = createLabelList(nameDict) # create graph labels by nameDict\n",
    "\n",
    "    (orig_x, orig_y) = plt.rcParams['figure.figsize']\n",
    "    plt.rcParams['figure.figsize'] = (6, 4) #---input\n",
    "\n",
    "    # P = sch.dendrogram(Z, color_threshold = upgma_threshold, orientation = 'right') # no label\n",
    "    P = sch.dendrogram(Z, color_threshold = upgma_threshold, labels = label_list, orientation = 'right')\n",
    "\n",
    "    plt.axvline(x=upgma_threshold, linewidth=1, color='black', linestyle='--')\n",
    "    locs, labels = plt.yticks()\n",
    "    # plt.xticks(  np.arange(0,1.1,0.1)) #---Align axis-x 900(0, 0.35, 0.05) 909(0,0.6,0.1) 855(0, 0.9, 0.1)\n",
    "    plt.setp(labels, fontsize = 14)\n",
    "    plt.tight_layout()\n",
    "\n",
    "    plt.rcParams['figure.figsize'] = (orig_x, orig_y)\n",
    "    plt.savefig(outputPath+'SBBGCA_'+tag+'.pdf', dpi=300)"
   ]
  },
  {
   "cell_type": "code",
   "execution_count": 8,
   "metadata": {},
   "outputs": [
    {
     "name": "stdout",
     "output_type": "stream",
     "text": [
      "2017-Aug-26 20:35\n",
      "-- Finish Initializing --\n",
      "-- Start Clustering --\n",
      "-- Finish Clustering --\n",
      "2017-Aug-26 20:40\n"
     ]
    }
   ],
   "source": [
    "# usage example of get clustering results\n",
    "\n",
    "import datetime\n",
    "date_time = datetime.datetime.now()\n",
    "print(date_time.strftime(\"%Y-%b-%d %H:%M\"))\n",
    "\n",
    "startClustering(data_directory, tag, outputPath)\n",
    "    \n",
    "date_time = datetime.datetime.now()\n",
    "print(date_time.strftime(\"%Y-%b-%d %H:%M\"))"
   ]
  },
  {
   "cell_type": "code",
   "execution_count": 9,
   "metadata": {},
   "outputs": [
    {
     "name": "stdout",
     "output_type": "stream",
     "text": [
      "Original Names :  {'G0': '0316c4_3320', 'G1': '08d0f7_3308', 'G2': '245b08_3284', 'G3': '28efa1_3272', 'G4': '2fbc8c_3284', 'G5': '31260c_3176', 'G6': '329d35_3328', 'G7': '329d35_3384', 'G8': '405c75_3248', 'G9': '4ab715_3208', 'G10': '4b9f98_3056', 'G11': '6546cc_3184', 'G12': '6f73aa_3392', 'G13': '73d1ab_3260', 'G14': '7a28c0_3208', 'G15': '802d6c_3300', 'G16': '8d2207_3344', 'G17': '9f8b03_3408', 'G18': 'a3a37b_3332', 'G19': 'aa634c_3232', 'G20': 'b04e89_3176', 'G21': 'b60814_2840', 'G22': 'b71a4a_3256', 'G23': 'bd9a4b_3400', 'G24': 'bdf002_3304', 'G25': 'c6d288_3216', 'G26': 'd4743b_3304', 'G27': 'd6d1ed_3360', 'G28': 'e0428e_3252', 'G29': 'e26147_3260', 'G30': 'fb4273_3224', 'G31': 'fe7658_3224'}\n",
      "['G0', 'G1']\n",
      "['G2', 'G23']\n",
      "['G3', 'G11']\n",
      "['G4', 'G5']\n",
      "['G6', 'G7']\n",
      "['G8', 'G10']\n",
      "['G12', 'G13']\n",
      "['G20', 'G14']\n",
      "['G15', 'G26']\n",
      "['G21', 'G36']\n",
      "['G22', 'G24']\n",
      "['G34', 'G25']\n",
      "['G28', 'G27']\n",
      "['G29', 'G30']\n",
      "['G31', 'G32']\n",
      "['G35', 'G37']\n",
      "['G39', 'G38']\n",
      "['G44', 'G42']\n",
      "['G46', 'G45']\n",
      "['G48', 'G47']\n",
      "['G50', 'G49']\n",
      "['G51', 'G52']\n",
      "['G19', 'G9']\n",
      "['G33', 'G40']\n",
      "['G54', 'G43']\n",
      "['G53', 'G56']\n",
      "['G55', 'G57']\n",
      "['G17', 'G58']\n",
      "['G59', 'G41']\n",
      "['G18', 'G16']\n",
      "['G60', 'G61']\n"
     ]
    },
    {
     "data": {
      "image/png": "[encoded data removed]",
      "text/plain": [
       "<matplotlib.figure.Figure at 0x101b07be0>"
      ]
     },
     "metadata": {},
     "output_type": "display_data"
    }
   ],
   "source": [
    "# usage example of draw hierarchy graph of clustering results\n",
    "\n",
    "drawClusteringResults(outputPath, tag, 0.01)"
   ]
  }
 ],
 "metadata": {
  "kernelspec": {
   "display_name": "Python 3",
   "language": "python",
   "name": "python3"
  },
  "language_info": {
   "codemirror_mode": {
    "name": "ipython",
    "version": 3
   },
   "file_extension": ".py",
   "mimetype": "text/x-python",
   "name": "python",
   "nbconvert_exporter": "python",
   "pygments_lexer": "ipython3",
   "version": "3.6.2"
  }
 },
 "nbformat": 4,
 "nbformat_minor": 2
}
