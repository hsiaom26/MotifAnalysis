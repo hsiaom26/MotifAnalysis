{
 "cells": [
  {
   "cell_type": "markdown",
   "metadata": {},
   "source": [
    "## SBBGCA usage\n",
    "Usage of SBBGCA.ipynb\n",
    "\n",
    "### Set Variable \n",
    "set variables before running codes:\n",
    "data_directory, tag, outputPath\n",
    "\n",
    "### Want to get clustering results\n",
    "##### run startClustering() function.\n",
    "\n",
    "It call do_SBBGCA_clustering() function in SBBGAC.ipynb which output 2 results : intermediatePool, initialNames.\n",
    "\n",
    "##### intermediatePool: the intermediates of clustering which is a dict\n",
    "##### initialNames: a dict which contains the original names of basic group(start from G0 to G_inputHooklogNumber)\n",
    "\n",
    "in the startClustering() function will output 2 pickles to outputPath which helping further usage.\n",
    "(Because the performance of SBBGCA is terrible Q_Q)\n",
    "\n",
    "### Want to draw hierarchy graph of clustering result\n",
    "##### run drawClusteringResults() function.\n",
    "\n",
    "It read the pickles of clustering results and draw graphs using matplotlib."
   ]
  },
  {
   "cell_type": "code",
   "execution_count": null,
   "metadata": {},
   "outputs": [],
   "source": [
    "# basic global inputs variable\n",
    "\n",
    "manualThresholdNumber = 0.8 # defined the threshold of merge score\n",
    "\n",
    "data_directory = \"hooklogs/Test_Family/\"\n",
    "tag = \"testFam_0.8\" # used for pickle name\n",
    "outputPath = \"output/SBBGCA_Clustering/Test_Family/\"\n",
    "pickleDir = outputPath + \"pickle/\"\n",
    "\n",
    "# Create Directories if didn't exist\n",
    "import os\n",
    "if not os.path.isdir(outputPath): os.makedirs(outputPath)\n",
    "if not os.path.isdir(pickleDir): os.makedirs(pickleDir)"
   ]
  },
  {
   "cell_type": "code",
   "execution_count": null,
   "metadata": {},
   "outputs": [],
   "source": [
    "# reverse clusterID by hooklogName\n",
    "\n",
    "def findClusterID(nameDict, hooklogName):\n",
    "    for key, value in nameDict.items():\n",
    "        if(value == hooklogName):\n",
    "            return key\n",
    "    return hooklogName"
   ]
  },
  {
   "cell_type": "code",
   "execution_count": null,
   "metadata": {},
   "outputs": [],
   "source": [
    "def getInitialNameDict(initialDict):\n",
    "    nameDict = dict()\n",
    "    for key, value in initialDict.items():\n",
    "        name = value[0]\n",
    "        nameDict[key] = name\n",
    "    return nameDict"
   ]
  },
  {
   "cell_type": "code",
   "execution_count": null,
   "metadata": {},
   "outputs": [],
   "source": [
    "# convert memberSet to List type\n",
    "\n",
    "def getMemberList(memberSet, nameDict):\n",
    "    memberList = list()\n",
    "    while(len(memberSet)>0):\n",
    "        member = memberSet.pop()\n",
    "        clusterID = findClusterID(nameDict, member)\n",
    "        memberList.append(clusterID)\n",
    "    return memberList"
   ]
  },
  {
   "cell_type": "code",
   "execution_count": null,
   "metadata": {},
   "outputs": [],
   "source": [
    "# z[0] = g1,  z[1] = g2,  z[2] = 高度\n",
    "# Create structure Z\n",
    "\n",
    "def createStructZ(intermediate_dict, nameDict):\n",
    "    import numpy as np\n",
    "    Z = np.zeros((len(intermediate_dict) ,4))\n",
    "    \n",
    "    intermediate_list = sorted(intermediate_dict.items(), key=lambda x:x[0])\n",
    "    \n",
    "    iterCounter = 0\n",
    "    for item in intermediate_list:\n",
    "        value = item[1] # get original dict value\n",
    "        score = value[0]\n",
    "        height = 1 - score # get cluster distance\n",
    "        clusterName = value[1][0]\n",
    "        memberSet = value[2] # members set\n",
    "        memberList = getMemberList(memberSet, nameDict)\n",
    "        print(clusterName, \" : \", memberList)\n",
    "        member1 = memberList[0][1::]\n",
    "        member2 = memberList[1][1::]\n",
    "        \n",
    "        Z[iterCounter] = [member1, member2, height, len(memberList)] # set Z element\n",
    "        iterCounter+=1\n",
    "        \n",
    "    return Z"
   ]
  },
  {
   "cell_type": "code",
   "execution_count": null,
   "metadata": {},
   "outputs": [],
   "source": [
    "def createLabelList(nameDict):\n",
    "    dict_keys = list(nameDict.keys())\n",
    "    dict_keys.sort(key=lambda tup: int(tup[1::] )) # sort keys by number in clusterName (i.e., '31' in 'G31')\n",
    "    \n",
    "    labelList = list()\n",
    "    for key in dict_keys:\n",
    "        labelList.append( nameDict[key] )\n",
    "    \n",
    "    return labelList"
   ]
  },
  {
   "cell_type": "code",
   "execution_count": null,
   "metadata": {},
   "outputs": [],
   "source": [
    "# do clustering and output two pickle files. (@_intermediate.pickle and @_nameDict.pickle)\n",
    "% run SBBGCA.ipynb\n",
    "\n",
    "def startClustering(data_directory, tag, outputPath, thresholdValue=None):\n",
    "    if not os.path.isdir(outputPath): os.makedirs(outputPath) # create output path Directory\n",
    "    \n",
    "    intermediatePool, initialDict, roundInfos, residual = do_SBBGCA_clustering(data_directory, tag, outputPath, thresholdValue)\n",
    "\n",
    "    # saving intermediatePool as pickle file\n",
    "    with open(pickleDir + tag + '_intermediate.pickle', 'wb') as handle:\n",
    "        pickle.dump(intermediatePool, handle, protocol=pickle.HIGHEST_PROTOCOL)\n",
    "\n",
    "    # saving initialNames dict as pickle file\n",
    "    with open(pickleDir + tag + '_initialDict.pickle', 'wb') as handle:\n",
    "        pickle.dump(initialDict, handle, protocol=pickle.HIGHEST_PROTOCOL)\n",
    "        \n",
    "    # saving round information dict as pickle file\n",
    "    with open(pickleDir + tag + '_roundInfos.pickle', 'wb') as handle:\n",
    "        pickle.dump(roundInfos, handle, protocol=pickle.HIGHEST_PROTOCOL)\n",
    "        \n",
    "    if(residual is not None):\n",
    "        # saving round information dict as pickle file\n",
    "        with open(pickleDir + tag + '_residual.pickle', 'wb') as handle:\n",
    "            pickle.dump(residual, handle, protocol=pickle.HIGHEST_PROTOCOL)"
   ]
  },
  {
   "cell_type": "code",
   "execution_count": null,
   "metadata": {
    "scrolled": true
   },
   "outputs": [],
   "source": [
    "# usage example of get clustering results\n",
    "\n",
    "import datetime\n",
    "date_time = datetime.datetime.now()\n",
    "print(date_time.strftime(\"%Y-%b-%d %H:%M\"))\n",
    "\n",
    "startClustering(data_directory, tag, outputPath, manualThresholdNumber)\n",
    "    \n",
    "date_time = datetime.datetime.now()\n",
    "print(date_time.strftime(\"%Y-%b-%d %H:%M\"))"
   ]
  },
  {
   "cell_type": "code",
   "execution_count": null,
   "metadata": {},
   "outputs": [],
   "source": [
    "# draw pics\n",
    "\n",
    "def drawClusteringResults(picklePath, outputPath, tag, upgma_threshold):\n",
    "    \n",
    "    #     Dependencies\n",
    "    import pickle\n",
    "    import scipy\n",
    "    import scipy.cluster.hierarchy as sch\n",
    "    import matplotlib.pylab as plt\n",
    "    %matplotlib inline\n",
    "    \n",
    "    # read the results from pickle files\n",
    "    with open(picklePath + tag + '_intermediate.pickle', 'rb') as handle:\n",
    "        intermediate = pickle.load(handle)\n",
    "    with open(picklePath + tag + '_initialDict.pickle', 'rb') as handle:\n",
    "        initialDict = pickle.load(handle)\n",
    "    with open(picklePath + tag + '_roundInfos.pickle', 'rb') as handle:\n",
    "        roundInfos = pickle.load(handle)\n",
    "        \n",
    "    initialNameDict = getInitialNameDict(initialDict)\n",
    "    print(\"Original Names : \", initialNameDict)\n",
    "    print(\"round informations\", roundInfos)\n",
    "    \n",
    "    # It have to create the Z structure for drawing purpose.\n",
    "    Z = createStructZ(intermediate, initialNameDict)\n",
    "    \n",
    "    label_list = createLabelList(initialNameDict) # create graph labels by nameDict\n",
    "\n",
    "    (orig_x, orig_y) = plt.rcParams['figure.figsize']\n",
    "    plt.rcParams['figure.figsize'] = (6, 10) #---input\n",
    "\n",
    "    # P = sch.dendrogram(Z, color_threshold = upgma_threshold, orientation = 'right') # no label\n",
    "    P = sch.dendrogram(Z, color_threshold = upgma_threshold, labels = label_list, orientation = 'right')\n",
    "\n",
    "#     plt.axvline(x=upgma_threshold, linewidth=1, color='black', linestyle='--')\n",
    "    locs, labels = plt.yticks()\n",
    "    # plt.xticks(  np.arange(0,1.1,0.1)) #---Align axis-x 900(0, 0.35, 0.05) 909(0,0.6,0.1) 855(0, 0.9, 0.1)\n",
    "    plt.setp(labels, fontsize = 14)\n",
    "    plt.tight_layout()\n",
    "\n",
    "    plt.rcParams['figure.figsize'] = (orig_x, orig_y)\n",
    "    plt.savefig(outputPath+'SBBGCA_'+tag+'.pdf', dpi=300)"
   ]
  },
  {
   "cell_type": "code",
   "execution_count": null,
   "metadata": {},
   "outputs": [],
   "source": [
    "# usage example of draw hierarchy graph of clustering results\n",
    "\n",
    "drawClusteringResults(pickleDir, outputPath, tag, 0.01)"
   ]
  }
 ],
 "metadata": {
  "kernelspec": {
   "display_name": "Python 3",
   "language": "python",
   "name": "python3"
  },
  "language_info": {
   "codemirror_mode": {
    "name": "ipython",
    "version": 3
   },
   "file_extension": ".py",
   "mimetype": "text/x-python",
   "name": "python",
   "nbconvert_exporter": "python",
   "pygments_lexer": "ipython3",
   "version": "3.4.5"
  }
 },
 "nbformat": 4,
 "nbformat_minor": 2
}
