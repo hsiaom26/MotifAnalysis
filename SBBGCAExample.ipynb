{
 "cells": [
  {
   "cell_type": "markdown",
   "metadata": {},
   "source": [
    "## SBBGCA usage\n",
    "Usage of SBBGCA.ipynb\n",
    "\n",
    "### Set Variable \n",
    "set variables before running codes:\n",
    "data_directory, tag, outputPath\n",
    "\n",
    "### Want to get clustering results\n",
    "##### run startClustering() function.\n",
    "\n",
    "It call do_SBBGCA_clustering() function in SBBGAC.ipynb which output 2 results : intermediatePool, initialNames.\n",
    "\n",
    "##### intermediatePool: the intermediates of clustering which is a dict\n",
    "##### initialNames: a dict which contains the original names of basic group(start from G0 to G_inputHooklogNumber)\n",
    "\n",
    "in the startClustering() function will output 2 pickles to outputPath which helping further usage.\n",
    "(Because the performance of SBBGCA is terrible Q_Q)\n",
    "\n",
    "### Want to draw hierarchy graph of clustering result\n",
    "##### run drawClusteringResults() function.\n",
    "\n",
    "It read the pickles of clustering results and draw graphs using matplotlib."
   ]
  },
  {
   "cell_type": "code",
   "execution_count": 1,
   "metadata": {
    "collapsed": true
   },
   "outputs": [],
   "source": [
    "# basic global inputs variable\n",
    "\n",
    "threshold = 1.0\n",
    "data_directory = \"hooklogs/allaple_woj_g_98/\"\n",
    "tag = \"allaple_\" + str(threshold) # used for pickle name\n",
    "outputPath = \"output/SBBGCA_Clustering/allaple_woj_g_98/\""
   ]
  },
  {
   "cell_type": "code",
   "execution_count": 2,
   "metadata": {
    "collapsed": true
   },
   "outputs": [],
   "source": [
    "# reverse clusterID by hooklogName\n",
    "\n",
    "def findClusterID(nameDict, hooklogName):\n",
    "    for key, value in nameDict.items():\n",
    "        if(value == hooklogName):\n",
    "            return key\n",
    "    return hooklogName"
   ]
  },
  {
   "cell_type": "code",
   "execution_count": 3,
   "metadata": {
    "collapsed": true
   },
   "outputs": [],
   "source": [
    "def getInitialNameDict(initialDict):\n",
    "    nameDict = dict()\n",
    "    for key, value in initialDict.items():\n",
    "        name = value[0]\n",
    "        nameDict[key] = name\n",
    "    return nameDict"
   ]
  },
  {
   "cell_type": "code",
   "execution_count": 4,
   "metadata": {
    "collapsed": true
   },
   "outputs": [],
   "source": [
    "# convert memberSet to List type\n",
    "\n",
    "def getMemberList(memberSet, nameDict):\n",
    "    memberList = list()\n",
    "    while(len(memberSet)>0):\n",
    "        member = memberSet.pop()\n",
    "        clusterID = findClusterID(nameDict, member)\n",
    "        memberList.append(clusterID)\n",
    "    return memberList"
   ]
  },
  {
   "cell_type": "code",
   "execution_count": 5,
   "metadata": {
    "collapsed": true
   },
   "outputs": [],
   "source": [
    "# z[0] = g1,  z[1] = g2,  z[2] = 高度\n",
    "# Create structure Z\n",
    "\n",
    "def createStructZ(intermediate_dict, nameDict):\n",
    "    import numpy as np\n",
    "    Z = np.zeros((len(intermediate_dict) ,4))\n",
    "    \n",
    "    intermediate_list = sorted(intermediate_dict.items(), key=lambda x:x[0])\n",
    "    \n",
    "    iterCounter = 0\n",
    "    for item in intermediate_list:\n",
    "        value = item[1] # get original dict value\n",
    "        score = value[0]\n",
    "        height = 1 - score # get cluster distance\n",
    "        clusterName = value[1][0]\n",
    "        memberSet = value[2] # members set\n",
    "        memberList = getMemberList(memberSet, nameDict)\n",
    "        print(clusterName, \" : \", memberList)\n",
    "        member1 = memberList[0][1::]\n",
    "        member2 = memberList[1][1::]\n",
    "        \n",
    "        Z[iterCounter] = [member1, member2, height, len(memberList)] # set Z element\n",
    "        iterCounter+=1\n",
    "        \n",
    "    return Z"
   ]
  },
  {
   "cell_type": "code",
   "execution_count": 6,
   "metadata": {
    "collapsed": true
   },
   "outputs": [],
   "source": [
    "def createLabelList(nameDict):\n",
    "    dict_keys = list(nameDict.keys())\n",
    "    dict_keys.sort(key=lambda tup: int(tup[1::] )) # sort keys by number in clusterName (i.e., '31' in 'G31')\n",
    "    \n",
    "    labelList = list()\n",
    "    for key in dict_keys:\n",
    "        labelList.append( nameDict[key] )\n",
    "    \n",
    "    return labelList"
   ]
  },
  {
   "cell_type": "code",
   "execution_count": 7,
   "metadata": {
    "collapsed": true
   },
   "outputs": [],
   "source": [
    "# do clustering and output two pickle files. (@_intermediate.pickle and @_nameDict.pickle)\n",
    "% run SBBGCA.ipynb\n",
    "\n",
    "def startClustering(data_directory, tag, outputPath, threshold):\n",
    "    if not os.path.isdir(outputPath): os.makedirs(outputPath) # create output path Directory\n",
    "    \n",
    "    intermediatePool, initialDict, roundInfos, residual = do_SBBGCA_clustering(data_directory, tag, outputPath, threshold)\n",
    "\n",
    "    # saving intermediatePool as pickle file\n",
    "    if not os.path.isdir(outputPath): os.makedirs(outputPath)\n",
    "    with open(outputPath + tag + '_intermediate.pickle', 'wb') as handle:\n",
    "        pickle.dump(intermediatePool, handle, protocol=pickle.HIGHEST_PROTOCOL)\n",
    "\n",
    "    # saving initialNames dict as pickle file\n",
    "    with open(outputPath + tag + '_initialDict.pickle', 'wb') as handle:\n",
    "        pickle.dump(initialDict, handle, protocol=pickle.HIGHEST_PROTOCOL)\n",
    "        \n",
    "    # saving round information dict as pickle file\n",
    "    with open(outputPath + tag + '_roundInfos.pickle', 'wb') as handle:\n",
    "        pickle.dump(roundInfos, handle, protocol=pickle.HIGHEST_PROTOCOL)\n",
    "        \n",
    "    if(residual is not None):\n",
    "        # saving round information dict as pickle file\n",
    "        with open(outputPath + tag + '_residual.pickle', 'wb') as handle:\n",
    "            pickle.dump(residual, handle, protocol=pickle.HIGHEST_PROTOCOL)"
   ]
  },
  {
   "cell_type": "code",
   "execution_count": 8,
   "metadata": {
    "collapsed": true
   },
   "outputs": [],
   "source": [
    "# draw pics\n",
    "\n",
    "def drawClusteringResults(outputPath, tag, upgma_threshold):\n",
    "    \n",
    "    #     Dependencies\n",
    "    import pickle\n",
    "    import scipy\n",
    "    import scipy.cluster.hierarchy as sch\n",
    "    import matplotlib.pylab as plt\n",
    "    %matplotlib inline\n",
    "    \n",
    "    # read the results from pickle files\n",
    "    with open(outputPath + tag + '_intermediate.pickle', 'rb') as handle:\n",
    "        intermediate = pickle.load(handle)\n",
    "    with open(outputPath + tag + '_initialDict.pickle', 'rb') as handle:\n",
    "        initialDict = pickle.load(handle)\n",
    "    with open(outputPath + tag + '_roundInfos.pickle', 'rb') as handle:\n",
    "        roundInfos = pickle.load(handle)\n",
    "        \n",
    "    initialNameDict = getInitialNameDict(initialDict)\n",
    "    print(\"Original Names : \", initialNameDict)\n",
    "    print(\"round informations\", roundInfos)\n",
    "    \n",
    "    # It have to create the Z structure for drawing purpose.\n",
    "    Z = createStructZ(intermediate, initialNameDict)\n",
    "    \n",
    "    label_list = createLabelList(initialNameDict) # create graph labels by nameDict\n",
    "\n",
    "    (orig_x, orig_y) = plt.rcParams['figure.figsize']\n",
    "    plt.rcParams['figure.figsize'] = (6, 10) #---input\n",
    "\n",
    "    # P = sch.dendrogram(Z, color_threshold = upgma_threshold, orientation = 'right') # no label\n",
    "    P = sch.dendrogram(Z, color_threshold = upgma_threshold, labels = label_list, orientation = 'right')\n",
    "\n",
    "#     plt.axvline(x=upgma_threshold, linewidth=1, color='black', linestyle='--')\n",
    "    locs, labels = plt.yticks()\n",
    "    # plt.xticks(  np.arange(0,1.1,0.1)) #---Align axis-x 900(0, 0.35, 0.05) 909(0,0.6,0.1) 855(0, 0.9, 0.1)\n",
    "    plt.setp(labels, fontsize = 14)\n",
    "    plt.tight_layout()\n",
    "\n",
    "    plt.rcParams['figure.figsize'] = (orig_x, orig_y)\n",
    "    plt.savefig(outputPath+'SBBGCA_'+tag+'.pdf', dpi=300)"
   ]
  },
  {
   "cell_type": "code",
   "execution_count": 9,
   "metadata": {
    "scrolled": true
   },
   "outputs": [
    {
     "name": "stdout",
     "output_type": "stream",
     "text": [
      "2017-Sep-13 19:53\n",
      "-- Finish Initializing --\n",
      "-- Start Clustering --\n",
      "-- Finish Clustering --\n",
      "2017-Sep-13 19:53\n"
     ]
    }
   ],
   "source": [
    "# usage example of get clustering results\n",
    "\n",
    "import datetime\n",
    "date_time = datetime.datetime.now()\n",
    "print(date_time.strftime(\"%Y-%b-%d %H:%M\"))\n",
    "\n",
    "startClustering(data_directory, tag, outputPath, threshold)\n",
    "    \n",
    "date_time = datetime.datetime.now()\n",
    "print(date_time.strftime(\"%Y-%b-%d %H:%M\"))"
   ]
  },
  {
   "cell_type": "code",
   "execution_count": 10,
   "metadata": {},
   "outputs": [
    {
     "name": "stdout",
     "output_type": "stream",
     "text": [
      "Original Names :  {'G0': '0316c4_3320', 'G1': '08d0f7_3308', 'G2': '245b08_3284', 'G3': '28efa1_3272', 'G4': '2fbc8c_3284', 'G5': '31260c_3176', 'G6': '329d35_3328', 'G7': '329d35_3384', 'G8': '405c75_3248', 'G9': '4ab715_3208', 'G10': '4b9f98_3056', 'G11': '6546cc_3184', 'G12': '6f73aa_3392', 'G13': '73d1ab_3260', 'G14': '7a28c0_3208', 'G15': '802d6c_3300', 'G16': '8d2207_3344', 'G17': '9f8b03_3408', 'G18': 'a3a37b_3332', 'G19': 'aa634c_3232', 'G20': 'b04e89_3176', 'G21': 'b60814_2840', 'G22': 'b71a4a_3256', 'G23': 'bd9a4b_3400', 'G24': 'bdf002_3304', 'G25': 'c6d288_3216', 'G26': 'd4743b_3304', 'G27': 'd6d1ed_3360', 'G28': 'e0428e_3252', 'G29': 'e26147_3260', 'G30': 'fb4273_3224', 'G31': 'fe7658_3224'}\n",
      "round informations {0: ['G0', 'G1', 'G2', 'G3', 'G4', 'G5', 'G6', 'G7', 'G8', 'G9', 'G10', 'G11', 'G12', 'G13', 'G14', 'G15', 'G16', 'G17', 'G18', 'G19', 'G20', 'G21', 'G22', 'G23', 'G24', 'G25', 'G26', 'G27', 'G28', 'G29', 'G30', 'G31'], 1: ['G32', 'G33', 'G34', 'G35', 'G36']}\n",
      "G32  :  ['G10', 'G1', 'G4', 'G20', 'G13', 'G0', 'G12', 'G30', 'G14', 'G27', 'G29', 'G8', 'G31', 'G5', 'G28', 'G22', 'G24']\n",
      "G33  :  ['G2', 'G23']\n",
      "G34  :  ['G3', 'G25', 'G11']\n",
      "G35  :  ['G21', 'G7', 'G6']\n",
      "G36  :  ['G26', 'G15']\n"
     ]
    },
    {
     "ename": "ValueError",
     "evalue": "Linkage 'Z' uses non-singleton cluster before it is formed.",
     "output_type": "error",
     "traceback": [
      "\u001b[0;31m---------------------------------------------------------------------------\u001b[0m",
      "\u001b[0;31mValueError\u001b[0m                                Traceback (most recent call last)",
      "\u001b[0;32m<ipython-input-10-c30623442827>\u001b[0m in \u001b[0;36m<module>\u001b[0;34m()\u001b[0m\n\u001b[1;32m      1\u001b[0m \u001b[0;31m# usage example of draw hierarchy graph of clustering results\u001b[0m\u001b[0;34m\u001b[0m\u001b[0;34m\u001b[0m\u001b[0m\n\u001b[1;32m      2\u001b[0m \u001b[0;34m\u001b[0m\u001b[0m\n\u001b[0;32m----> 3\u001b[0;31m \u001b[0mdrawClusteringResults\u001b[0m\u001b[0;34m(\u001b[0m\u001b[0moutputPath\u001b[0m\u001b[0;34m,\u001b[0m \u001b[0mtag\u001b[0m\u001b[0;34m,\u001b[0m \u001b[0;36m0.01\u001b[0m\u001b[0;34m)\u001b[0m\u001b[0;34m\u001b[0m\u001b[0m\n\u001b[0m",
      "\u001b[0;32m<ipython-input-8-a2f41aba6031>\u001b[0m in \u001b[0;36mdrawClusteringResults\u001b[0;34m(outputPath, tag, upgma_threshold)\u001b[0m\n\u001b[1;32m     31\u001b[0m \u001b[0;34m\u001b[0m\u001b[0m\n\u001b[1;32m     32\u001b[0m     \u001b[0;31m# P = sch.dendrogram(Z, color_threshold = upgma_threshold, orientation = 'right') # no label\u001b[0m\u001b[0;34m\u001b[0m\u001b[0;34m\u001b[0m\u001b[0m\n\u001b[0;32m---> 33\u001b[0;31m     \u001b[0mP\u001b[0m \u001b[0;34m=\u001b[0m \u001b[0msch\u001b[0m\u001b[0;34m.\u001b[0m\u001b[0mdendrogram\u001b[0m\u001b[0;34m(\u001b[0m\u001b[0mZ\u001b[0m\u001b[0;34m,\u001b[0m \u001b[0mcolor_threshold\u001b[0m \u001b[0;34m=\u001b[0m \u001b[0mupgma_threshold\u001b[0m\u001b[0;34m,\u001b[0m \u001b[0mlabels\u001b[0m \u001b[0;34m=\u001b[0m \u001b[0mlabel_list\u001b[0m\u001b[0;34m,\u001b[0m \u001b[0morientation\u001b[0m \u001b[0;34m=\u001b[0m \u001b[0;34m'right'\u001b[0m\u001b[0;34m)\u001b[0m\u001b[0;34m\u001b[0m\u001b[0m\n\u001b[0m\u001b[1;32m     34\u001b[0m \u001b[0;34m\u001b[0m\u001b[0m\n\u001b[1;32m     35\u001b[0m \u001b[0;31m#     plt.axvline(x=upgma_threshold, linewidth=1, color='black', linestyle='--')\u001b[0m\u001b[0;34m\u001b[0m\u001b[0;34m\u001b[0m\u001b[0m\n",
      "\u001b[0;32m/Applications/anaconda/lib/python3.6/site-packages/scipy/cluster/hierarchy.py\u001b[0m in \u001b[0;36mdendrogram\u001b[0;34m(Z, p, truncate_mode, color_threshold, get_leaves, orientation, labels, count_sort, distance_sort, show_leaf_counts, no_plot, no_labels, leaf_font_size, leaf_rotation, leaf_label_func, show_contracted, link_color_func, ax, above_threshold_color)\u001b[0m\n\u001b[1;32m   2294\u001b[0m                          \"'bottom', or 'right'\")\n\u001b[1;32m   2295\u001b[0m \u001b[0;34m\u001b[0m\u001b[0m\n\u001b[0;32m-> 2296\u001b[0;31m     \u001b[0mis_valid_linkage\u001b[0m\u001b[0;34m(\u001b[0m\u001b[0mZ\u001b[0m\u001b[0;34m,\u001b[0m \u001b[0mthrow\u001b[0m\u001b[0;34m=\u001b[0m\u001b[0;32mTrue\u001b[0m\u001b[0;34m,\u001b[0m \u001b[0mname\u001b[0m\u001b[0;34m=\u001b[0m\u001b[0;34m'Z'\u001b[0m\u001b[0;34m)\u001b[0m\u001b[0;34m\u001b[0m\u001b[0m\n\u001b[0m\u001b[1;32m   2297\u001b[0m     \u001b[0mZs\u001b[0m \u001b[0;34m=\u001b[0m \u001b[0mZ\u001b[0m\u001b[0;34m.\u001b[0m\u001b[0mshape\u001b[0m\u001b[0;34m\u001b[0m\u001b[0m\n\u001b[1;32m   2298\u001b[0m     \u001b[0mn\u001b[0m \u001b[0;34m=\u001b[0m \u001b[0mZs\u001b[0m\u001b[0;34m[\u001b[0m\u001b[0;36m0\u001b[0m\u001b[0;34m]\u001b[0m \u001b[0;34m+\u001b[0m \u001b[0;36m1\u001b[0m\u001b[0;34m\u001b[0m\u001b[0m\n",
      "\u001b[0;32m/Applications/anaconda/lib/python3.6/site-packages/scipy/cluster/hierarchy.py\u001b[0m in \u001b[0;36mis_valid_linkage\u001b[0;34m(Z, warning, throw, name)\u001b[0m\n\u001b[1;32m   1472\u001b[0m         \u001b[0;32mif\u001b[0m \u001b[0m_check_hierarchy_uses_cluster_before_formed\u001b[0m\u001b[0;34m(\u001b[0m\u001b[0mZ\u001b[0m\u001b[0;34m)\u001b[0m\u001b[0;34m:\u001b[0m\u001b[0;34m\u001b[0m\u001b[0m\n\u001b[1;32m   1473\u001b[0m             raise ValueError('Linkage %suses non-singleton cluster before '\n\u001b[0;32m-> 1474\u001b[0;31m                              'it is formed.' % name_str)\n\u001b[0m\u001b[1;32m   1475\u001b[0m         \u001b[0;32mif\u001b[0m \u001b[0m_check_hierarchy_uses_cluster_more_than_once\u001b[0m\u001b[0;34m(\u001b[0m\u001b[0mZ\u001b[0m\u001b[0;34m)\u001b[0m\u001b[0;34m:\u001b[0m\u001b[0;34m\u001b[0m\u001b[0m\n\u001b[1;32m   1476\u001b[0m             raise ValueError('Linkage %suses the same cluster more than once.'\n",
      "\u001b[0;31mValueError\u001b[0m: Linkage 'Z' uses non-singleton cluster before it is formed."
     ]
    }
   ],
   "source": [
    "# usage example of draw hierarchy graph of clustering results\n",
    "\n",
    "drawClusteringResults(outputPath, tag, 0.01)"
   ]
  }
 ],
 "metadata": {
  "kernelspec": {
   "display_name": "Python 3",
   "language": "python",
   "name": "python3"
  },
  "language_info": {
   "codemirror_mode": {
    "name": "ipython",
    "version": 3
   },
   "file_extension": ".py",
   "mimetype": "text/x-python",
   "name": "python",
   "nbconvert_exporter": "python",
   "pygments_lexer": "ipython3",
   "version": "3.6.2"
  }
 },
 "nbformat": 4,
 "nbformat_minor": 2
}
