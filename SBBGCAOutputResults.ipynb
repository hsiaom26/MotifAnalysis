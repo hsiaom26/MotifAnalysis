{
 "cells": [
  {
   "cell_type": "markdown",
   "metadata": {},
   "source": [
    "## Usage\n",
    "Used to get intermediate from SBBGCA(including score, member, apis...)\n",
    "\n",
    "## preRequirement\n",
    "Have to run SBBGCAExample - startClustering() function and get two pickles first"
   ]
  },
  {
   "cell_type": "code",
   "execution_count": 1,
   "metadata": {
    "collapsed": true
   },
   "outputs": [],
   "source": [
    "tag = \"allaple_woj_g_98\"  # used for pickle name\n",
    "outputPath = \"output/SBBGCA_Clustering/allaple_woj_g_98/\""
   ]
  },
  {
   "cell_type": "code",
   "execution_count": 2,
   "metadata": {},
   "outputs": [],
   "source": [
    "import pickle\n",
    "\n",
    "# read the results from pickle files\n",
    "with open(outputPath + tag + '_intermediate.pickle', 'rb') as handle:\n",
    "    intermediate = pickle.load(handle)\n",
    "with open(outputPath + tag + '_nameDict.pickle', 'rb') as handle:\n",
    "    nameDict = pickle.load(handle)\n",
    "    "
   ]
  },
  {
   "cell_type": "code",
   "execution_count": 3,
   "metadata": {
    "scrolled": false
   },
   "outputs": [],
   "source": [
    "import csv\n",
    "\n",
    "descendant_dict = dict()\n",
    "groupInfo_list = list()\n",
    "groupMotif_dict = dict()\n",
    "for key, value in intermediate.items():\n",
    "    score = value[0]\n",
    "    clusterName = value[1][0]\n",
    "    memberSet = value[2]\n",
    "    motifs = value[1][1]\n",
    "    motifsSize = len(motifs)\n",
    "    \n",
    "    # merge descendants\n",
    "    descendants = set() # a new set to save descendants\n",
    "    for member in memberSet:\n",
    "        if member[0] == \"G\": # if a cluster member is already a grouped cluster\n",
    "            for descendant in descendant_dict[member] :\n",
    "                descendants.add(descendant)\n",
    "        else:\n",
    "            descendants.add(member)\n",
    "\n",
    "    descendant_dict[clusterName] = descendants\n",
    "    descendantSize = len(descendant_dict)\n",
    "    \n",
    "    groupMotif_dict[clusterName] = motifs\n",
    "    groupInfo_list.append((clusterName, score, memberSet, motifsSize))\n",
    "    \n",
    "# TODO: write file:  clusterName, score, members, motifCount\n",
    "with open(outputPath + tag + \"_GroupInfo.csv\", 'w', newline='') as infoFile:\n",
    "    spamwriter = csv.writer(infoFile, delimiter=',',\n",
    "                            quotechar='\"', quoting=csv.QUOTE_MINIMAL)\n",
    "    header = [\"ClusterName\", \"SimilarityScore\", \"Members\", \"MotifCount\"]\n",
    "    spamwriter.writerow(header)\n",
    "    for group in groupInfo_list:\n",
    "        spamwriter.writerow(group)\n",
    "    \n",
    "    \n",
    "# TODO: write file:  clusterName, descendants list\n",
    "with open(outputPath + tag + \"_Descendants.csv\", 'w', newline='') as desFile:\n",
    "    spamwriter = csv.writer(desFile, delimiter=',',\n",
    "                            quotechar='\"', quoting=csv.QUOTE_MINIMAL)\n",
    "    header = [\"ClusterName\", \"DescendantSize\", \"Descendants\"]\n",
    "    spamwriter.writerow(header)\n",
    "    for key in sorted(descendant_dict.keys(), key = lambda x : int(x[1::])):\n",
    "        row = (key, len(descendant_dict[key]), descendant_dict[key])\n",
    "        spamwriter.writerow(row)\n",
    "        \n",
    "# TODO: write file:  clusterName, MotifNumber, apis\n",
    "with open(outputPath + tag + \"_Motifs.csv\", 'w', newline='') as motifFile:\n",
    "    spamwriter = csv.writer(motifFile, delimiter=',',\n",
    "                            quotechar='\"', quoting=csv.QUOTE_MINIMAL)\n",
    "    header = [\"ClusterName\", \"MotifNumber\", \"APIs\"]\n",
    "    spamwriter.writerow(header)\n",
    "\n",
    "    for key in sorted(groupMotif_dict.keys(), key = lambda x : int(x[1::])):\n",
    "        group_motifs = groupMotif_dict[key]\n",
    "        motifNumber = 0\n",
    "        for motif in group_motifs:\n",
    "            firstMotifAPI = True\n",
    "            for api in motif[0]:\n",
    "                if(firstMotifAPI):\n",
    "                    row = (key, motifNumber, api)\n",
    "                    firstMotifAPI = False\n",
    "                else:\n",
    "                    row = (\"\", \"\", api)\n",
    "                spamwriter.writerow(row)\n",
    "            motifNumber += 1"
   ]
  }
 ],
 "metadata": {
  "kernelspec": {
   "display_name": "Python 3",
   "language": "python",
   "name": "python3"
  },
  "language_info": {
   "codemirror_mode": {
    "name": "ipython",
    "version": 3
   },
   "file_extension": ".py",
   "mimetype": "text/x-python",
   "name": "python",
   "nbconvert_exporter": "python",
   "pygments_lexer": "ipython3",
   "version": "3.6.2"
  }
 },
 "nbformat": 4,
 "nbformat_minor": 2
}
