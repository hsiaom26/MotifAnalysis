{
 "cells": [
  {
   "cell_type": "markdown",
   "metadata": {},
   "source": [
    "## Usage\n",
    "Used to get intermediate from SBBGCA(including score, member, apis...)\n",
    "\n",
    "## preRequirement\n",
    "Have to run SBBGCAExample - startClustering() function and get two pickles first"
   ]
  },
  {
   "cell_type": "code",
   "execution_count": 1,
   "metadata": {
    "collapsed": true
   },
   "outputs": [],
   "source": [
    "tag = \"allaple_woj_g_98\"  # used for pickle name\n",
    "outputPath = \"output/SBBGCA_Clustering/allaple_woj_g_98/\""
   ]
  },
  {
   "cell_type": "code",
   "execution_count": 2,
   "metadata": {
    "collapsed": true
   },
   "outputs": [],
   "source": [
    "import pickle\n",
    "\n",
    "# read the results from pickle files\n",
    "with open(outputPath + tag + '_intermediate.pickle', 'rb') as handle:\n",
    "    intermediate = pickle.load(handle)\n",
    "with open(outputPath + tag + '_initialDict.pickle', 'rb') as handle:\n",
    "    initialDict = pickle.load(handle)\n",
    "with open(outputPath + tag + '_roundInfos.pickle', 'rb') as handle:\n",
    "    roundInfos = pickle.load(handle)"
   ]
  },
  {
   "cell_type": "code",
   "execution_count": 3,
   "metadata": {
    "collapsed": true
   },
   "outputs": [],
   "source": [
    "# calculate motif lengths of all common motifs\n",
    "def getMotifsLengthList(motifs):\n",
    "    motifLens = list()\n",
    "    for motif in motifs:\n",
    "        startIdx =motif[1]\n",
    "        endIdx = motif[2]\n",
    "        mLen = endIdx - startIdx + 1\n",
    "        motifLens.append(mLen)\n",
    "    return motifLens"
   ]
  },
  {
   "cell_type": "code",
   "execution_count": 4,
   "metadata": {
    "collapsed": true
   },
   "outputs": [],
   "source": [
    "def findGeneratedRoundNumber(clusterName, roundInfosDict):\n",
    "    for key, value in roundInfosDict.items():\n",
    "        if clusterName in value:\n",
    "            return key\n",
    "    return -1"
   ]
  },
  {
   "cell_type": "code",
   "execution_count": 5,
   "metadata": {
    "collapsed": true,
    "scrolled": false
   },
   "outputs": [],
   "source": [
    "import csv\n",
    "\n",
    "descendant_dict = dict()\n",
    "groupInfo_list = list()\n",
    "groupMotif_dict = dict()\n",
    "\n",
    "intermediate_list = sorted(intermediate.items(), key=lambda x : x[0])\n",
    "for item in intermediate_list:\n",
    "    value = item[1] # get original dict value\n",
    "    score = value[0]\n",
    "    clusterName = value[1][0]\n",
    "    memberSet = value[2]\n",
    "    motifs = value[1][1]\n",
    "    \n",
    "    # calculate motif lengths of all common motifs\n",
    "    motifLens = getMotifsLengthList(motifs)\n",
    "\n",
    "    motifsCount = len(motifs)\n",
    "    # merge descendants\n",
    "    descendants = set() # a new set to save descendants\n",
    "    for member in memberSet:\n",
    "        if member[0] == \"G\": # if a cluster member is already a grouped cluster\n",
    "            for descendant in descendant_dict[member] :\n",
    "                descendants.add(descendant)\n",
    "        else:\n",
    "            descendants.add(member)\n",
    "\n",
    "    descendant_dict[clusterName] = descendants\n",
    "    descendantSize = len(descendant_dict)\n",
    "    \n",
    "    groupMotif_dict[clusterName] = motifs\n",
    "    \n",
    "    roundNumber = findGeneratedRoundNumber(clusterName, roundInfos)\n",
    "    \n",
    "    groupInfo_list.append((roundNumber, clusterName, score, memberSet, motifsCount, motifLens))\n",
    "    \n",
    "# write file \"GroupInfo.csv\" :  clusterName, score, members, motifCount, common motifs length list\n",
    "with open(outputPath + tag + \"_GroupInfo.csv\", 'w', newline='') as infoFile:\n",
    "    spamwriter = csv.writer(infoFile, delimiter=',',\n",
    "                            quotechar='\"', quoting=csv.QUOTE_MINIMAL)\n",
    "    header = [\"Round\", \"ClusterName\", \"SimilarityScore\", \"Members\", \"MotifsCount\", \"MotifLength\"]\n",
    "    spamwriter.writerow(header)\n",
    "    \n",
    "    # write initial cluster informations(i.e., hooklogs)\n",
    "    for key in sorted(initialDict.keys(), key = lambda x : int(x[1::])):\n",
    "        # something like this: (0, \"G1\", \"N/A\", \"abc\", 1, 109)\n",
    "        originDataRow = (0, key, \"N/A\", initialDict[key][0], 1, initialDict[key][1])\n",
    "        spamwriter.writerow(originDataRow)\n",
    "        \n",
    "    # write cluster informations\n",
    "    for group in groupInfo_list:\n",
    "        spamwriter.writerow(group)\n",
    "    \n",
    "    \n",
    "# write file \"Descendants.csv\" :  clusterName, descendants size,  descendants list\n",
    "with open(outputPath + tag + \"_Descendants.csv\", 'w', newline='') as desFile:\n",
    "    spamwriter = csv.writer(desFile, delimiter=',',\n",
    "                            quotechar='\"', quoting=csv.QUOTE_MINIMAL)\n",
    "    header = [\"ClusterName\", \"DescendantSize\", \"Descendants\"]\n",
    "    spamwriter.writerow(header)\n",
    "    for key in sorted(descendant_dict.keys(), key = lambda x : int(x[1::])):\n",
    "        row = (key, len(descendant_dict[key]), descendant_dict[key])\n",
    "        spamwriter.writerow(row)\n",
    "        \n",
    "# write file \"Motifs.csv\" :  clusterName, MotifNumber, apis\n",
    "with open(outputPath + tag + \"_Motifs.csv\", 'w', newline='') as motifFile:\n",
    "    spamwriter = csv.writer(motifFile, delimiter=',',\n",
    "                            quotechar='\"', quoting=csv.QUOTE_MINIMAL)\n",
    "    header = [\"ClusterName\", \"MotifNumber\", \"APIs\"]\n",
    "    spamwriter.writerow(header)\n",
    "\n",
    "    for key in sorted(groupMotif_dict.keys(), key = lambda x : int(x[1::])):\n",
    "        group_motifs = groupMotif_dict[key]\n",
    "        motifNumber = 0\n",
    "        for motif in group_motifs:\n",
    "            firstMotifAPI = True\n",
    "            for api in motif[0]:\n",
    "                if(firstMotifAPI):\n",
    "                    row = (key, motifNumber, api)\n",
    "                    firstMotifAPI = False\n",
    "                else:\n",
    "                    row = (\"\", \"\", api)\n",
    "                spamwriter.writerow(row)\n",
    "            motifNumber += 1\n",
    "            \n",
    "# # write file \"RoundInformation.csv\" : Round, Generate Group\n",
    "# with open(outputPath + tag + \"_RoundInformation.csv\", 'w', newline='') as roundInfoFile:\n",
    "#     spamwriter = csv.writer(roundInfoFile, delimiter=',',\n",
    "#                             quotechar='\"', quoting=csv.QUOTE_MINIMAL)\n",
    "#     header = [\"Round\", \"Generate Group\"]\n",
    "#     spamwriter.writerow(header)\n",
    "    \n",
    "#     for key in sorted(roundInfos.keys(), key = lambda x:int(x)):\n",
    "#         row = (key, roundInfos[key])\n",
    "#         spamwriter.writerow(row)"
   ]
  },
  {
   "cell_type": "code",
   "execution_count": 6,
   "metadata": {},
   "outputs": [],
   "source": [
    "# output residual information of SBBGCA\n",
    "\n",
    "with open(outputPath + tag + '_residual.pickle', 'rb') as handle:\n",
    "    residual = pickle.load(handle)\n",
    "    \n",
    "with open(outputPath + tag + \"_GroupInfo.csv\", 'a', newline='') as expandGroupInfo:\n",
    "    spamwriter = csv.writer(expandGroupInfo, delimiter=',',\n",
    "                            quotechar='\"', quoting=csv.QUOTE_MINIMAL)\n",
    "    header = [\"ClusterName\", \"Members\", \"MotifLength\"]\n",
    "    \n",
    "    spamwriter.writerow(\"\")\n",
    "    spamwriter.writerow((\"Residual Clusters:\",\"\",\"\"))\n",
    "    spamwriter.writerow(header)\n",
    "    \n",
    "    for key, value in residual.items():\n",
    "        clusterName = value[0][0]\n",
    "        motifsList = value[0][1]\n",
    "        motifLens = getMotifsLengthList(motifsList)\n",
    "        members = value[1]\n",
    "        if( len(members) == 0 ):\n",
    "            row = (clusterName, \"N/A\", motifLens)\n",
    "        else:\n",
    "            row = (clusterName, members, motifLens)\n",
    "            \n",
    "        spamwriter.writerow(row)"
   ]
  }
 ],
 "metadata": {
  "kernelspec": {
   "display_name": "Python 3",
   "language": "python",
   "name": "python3"
  },
  "language_info": {
   "codemirror_mode": {
    "name": "ipython",
    "version": 3
   },
   "file_extension": ".py",
   "mimetype": "text/x-python",
   "name": "python",
   "nbconvert_exporter": "python",
   "pygments_lexer": "ipython3",
   "version": "3.6.2"
  }
 },
 "nbformat": 4,
 "nbformat_minor": 2
}
