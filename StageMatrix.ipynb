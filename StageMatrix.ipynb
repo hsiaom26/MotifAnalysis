{
 "cells": [
  {
   "cell_type": "markdown",
   "metadata": {
    "deletable": true,
    "editable": true
   },
   "source": [
    "## StageMatrix\n",
    "\n",
    "    Given two datastructure: MatchMatrix& GapSeqList, generate StageMatrix.\n",
    "    output: (StageMatrix)"
   ]
  },
  {
   "cell_type": "code",
   "execution_count": 1,
   "metadata": {
    "collapsed": false,
    "deletable": true,
    "editable": true
   },
   "outputs": [],
   "source": [
    "def stageMatrix(matchMatrix, gapSeqList):\n",
    "    len_BASE = len(gapSeqList)-1\n",
    "    hkName_li = [hk for hk, stat, api in matchMatrix[1]]\n",
    "    stageMatrix = {hk:[] for hk in hkName_li}\n",
    "\n",
    "    for hk in stageMatrix:\n",
    "        strBuf_li = []\n",
    "        j = 0\n",
    "\n",
    "        while j < len_BASE+1:\n",
    "            #----GapSeqList: check if gapSeqList is empty. \n",
    "            if (gapSeqList[j]) :\n",
    "                if (strBuf_li): stageMatrix[hk].append(strBuf_li)\n",
    "\n",
    "                gapli =  list(filter(lambda tup:tup[0]==hk, gapSeqList[j]))\n",
    "                strBuf_li = gapli[0][1] if gapli else ['=']\n",
    "                stageMatrix[hk].append(strBuf_li) \n",
    "                strBuf_li = []\n",
    "\n",
    "            j+=1\n",
    "            if (j > len_BASE): \n",
    "                if (strBuf_li): stageMatrix[hk].append(strBuf_li)\n",
    "                break\n",
    "\n",
    "            #----MatchMatrix: check if the stat of two col. are equal.\n",
    "            api = [api for hkN, stat, api in matchMatrix[j] if hkN==hk][0]\n",
    "            strBuf_li.append(api)\n",
    "\n",
    "            if (j+1 < len_BASE+1):\n",
    "                curColStat_li = [stat for hkN, stat, api in matchMatrix[j]]\n",
    "                nextColStat_li = [stat for hkN, stat, api in matchMatrix[j+1]]\n",
    "                if curColStat_li != nextColStat_li:\n",
    "                    stageMatrix[hk].append(strBuf_li)\n",
    "                    strBuf_li = []\n",
    "    \n",
    "    # transform multiple gap segment into one gap segment                    \n",
    "    for hk in stageMatrix:\n",
    "        for ii,seg in enumerate(stageMatrix[hk]):\n",
    "            if set(seg) == set(['=']):\n",
    "                stageMatrix[hk][ii] = ['=']\n",
    "\n",
    "    return stageMatrix"
   ]
  }
 ],
 "metadata": {
  "kernelspec": {
   "display_name": "Python 3",
   "language": "python",
   "name": "python3"
  },
  "language_info": {
   "codemirror_mode": {
    "name": "ipython",
    "version": 3
   },
   "file_extension": ".py",
   "mimetype": "text/x-python",
   "name": "python",
   "nbconvert_exporter": "python",
   "pygments_lexer": "ipython3",
   "version": "3.5.2"
  }
 },
 "nbformat": 4,
 "nbformat_minor": 0
}
