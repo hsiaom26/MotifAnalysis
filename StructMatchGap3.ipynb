{
 "cells": [
  {
   "cell_type": "markdown",
   "metadata": {},
   "source": [
    "## Two Data Structure: MatchMatrix, GapSeqList\n",
    "\n",
    "    Given alignment result, generate two datastructure: MatchMatrix, GapSeqList.\n",
    "    output: (MatchMatrix, GapSeqList)"
   ]
  },
  {
   "cell_type": "code",
   "execution_count": null,
   "metadata": {
    "collapsed": true
   },
   "outputs": [],
   "source": [
    "def structMatchGap(ali_dict):\n",
    "    len_BASE = ali_dict[list(ali_dict.keys())[0]][-1][1][0] #get baseline length\n",
    "    matchMatrix={i+1:[] for i in range(len_BASE)} \n",
    "    gapSeqList={i:[] for i in range(len_BASE +1)} \n",
    "\n",
    "    for hk in ali_dict:\n",
    "        ali_hk = ali_dict[hk]\n",
    "        len_aHK = len(ali_hk)\n",
    "        \n",
    "        j = 0\n",
    "        while (j < len_aHK):\n",
    "            # BASE:(iB,apiB); Others:(iO,apiO)\n",
    "            ((iB,apiB),(iO,apiO)) = ali_hk[j] \n",
    "            if apiB=='=' and apiO!='=':\n",
    "                lastIndex = ali_hk[j-1][0][0] if j!=0 else 0\n",
    "                strBuf_li = [apiO]\n",
    "                while (j < len_aHK) and (ali_hk[j+1][0][1]=='='):\n",
    "                    strBuf_li.append(ali_hk[j+1][1][1])\n",
    "                    j += 1\n",
    "                gapSeqList[lastIndex].append((hk, strBuf_li))\n",
    "\n",
    "            else:\n",
    "                symbol = 'gap' if (apiO=='=' and apiB!='=') else ('mismatch' if apiB!=apiO else 'match')\n",
    "                symbolAPI = '=' if symbol =='gap' else apiO\n",
    "                matchMatrix[iB].append((hk,symbol,symbolAPI)) \n",
    "                \n",
    "            j += 1\n",
    "                    \n",
    "    return matchMatrix, gapSeqList"
   ]
  }
 ],
 "metadata": {
  "kernelspec": {
   "display_name": "Python 3",
   "language": "python",
   "name": "python3"
  },
  "language_info": {
   "codemirror_mode": {
    "name": "ipython",
    "version": 3
   },
   "file_extension": ".py",
   "mimetype": "text/x-python",
   "name": "python",
   "nbconvert_exporter": "python",
   "pygments_lexer": "ipython3",
   "version": "3.6.1"
  }
 },
 "nbformat": 4,
 "nbformat_minor": 2
}
