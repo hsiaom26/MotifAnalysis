{
 "cells": [
  {
   "cell_type": "code",
   "execution_count": 48,
   "metadata": {},
   "outputs": [],
   "source": [
    "%run CollectForestInfo.ipynb\n",
    "%run apiNgramCreator.ipynb\n",
    "\n",
    "import pickle"
   ]
  },
  {
   "cell_type": "code",
   "execution_count": 50,
   "metadata": {
    "scrolled": true
   },
   "outputs": [],
   "source": [
    "picklePath = \"output/pickles2/\"\n",
    "forestDict = dict()\n",
    "\n",
    "import os\n",
    "\n",
    "for rootDir, dirs, files in os.walk(picklePath):\n",
    "    if(files):\n",
    "        dirName = (os.path.split(rootDir)[-1]) \n",
    "        familyName = dirName\n",
    "        \n",
    "        intermediatePicklePath, residualPicklePath = files\n",
    "        \n",
    "        forestInfo = CollectForestInfo(rootDir+'/'+intermediatePicklePath,\n",
    "                                       rootDir+'/'+residualPicklePath,\n",
    "                                       True) # one pickle is a forest\n",
    "        groupMotif_dict = forestInfo.getGroupMotif_dict()\n",
    "        notLonerList = forestInfo.getTreeList()\n",
    "\n",
    "        for notLonerGroup in notLonerList:\n",
    "            treeIndex = notLonerGroup[0]\n",
    "            group_motifs = groupMotif_dict[treeIndex]\n",
    "#             print(treeIndex)\n",
    "\n",
    "            apiSequence = list()\n",
    "            for motif in group_motifs:\n",
    "                apiSequence.extend(motif[0])\n",
    "\n",
    "            tree = FamilyTree(familyName, treeIndex, apiSequence, 5)\n",
    "            forestDict[familyName + '_' + treeIndex] = tree"
   ]
  },
  {
   "cell_type": "code",
   "execution_count": 2,
   "metadata": {},
   "outputs": [],
   "source": [
    "# tag = \"loadmoney_main\" # used for pickle name\n",
    "# outputPath = \"output/SBBGCA_Clustering_7137DS/loadmoney_1104/loadmoney_main/1/\"\n",
    "# pickleDir = outputPath + \"pickle/\""
   ]
  },
  {
   "cell_type": "code",
   "execution_count": 3,
   "metadata": {},
   "outputs": [],
   "source": [
    "# intermediatePicklePath = pickleDir + tag + '_intermediate.pickle'\n",
    "# residualPicklePath = pickleDir + tag + '_residual.pickle'\n",
    "\n",
    "# forestInfo = CollectForestInfo(intermediatePicklePath, residualPicklePath, True) # one pickle is a forest\n",
    "# groupMotif_dict = forestInfo.getGroupMotif_dict()\n",
    "# notLonerList = forestInfo.getTreeList()"
   ]
  },
  {
   "cell_type": "code",
   "execution_count": 4,
   "metadata": {},
   "outputs": [
    {
     "name": "stdout",
     "output_type": "stream",
     "text": [
      "G56\n"
     ]
    }
   ],
   "source": [
    "# treeDict = dict()\n",
    "\n",
    "# familyName = tag\n",
    "# for notLonerGroup in notLonerList:\n",
    "#     treeIndex = notLonerGroup[0]\n",
    "#     group_motifs = groupMotif_dict[treeIndex]\n",
    "#     print(treeIndex)\n",
    "    \n",
    "#     apiSequence = list()\n",
    "#     for motif in group_motifs:\n",
    "#         apiSequence.extend(motif[0])\n",
    "        \n",
    "#     tree = FamilyTree(familyName, treeIndex, apiSequence)\n",
    "#     treeDict[familyName + '_' + treeIndex] = tree"
   ]
  },
  {
   "cell_type": "code",
   "execution_count": 5,
   "metadata": {},
   "outputs": [],
   "source": [
    "# treeDict['loadmoney_main_G56'].setNgram(5)"
   ]
  },
  {
   "cell_type": "code",
   "execution_count": 52,
   "metadata": {},
   "outputs": [
    {
     "data": {
      "text/plain": [
       "dict_keys(['loadmoney_1_main_G56', 'loadmoney_2_main_G26', 'softpulse_3_main_G83', 'loadmoney_3_main_G107', 'loadmoney_3_main_G129', 'loadmoney_3_main_G108', 'zusy_2_main_G30', 'zusy_3_main_G129', 'zusy_3_main_G100', 'zusy_3_main_G137', 'softpulse_3_main_G82', 'zusy_2_main_G25', 'softpulse_3_main_G80', 'zusy_3_main_G120', 'loadmoney_3_main_G94', 'loadmoney_2_main_G32', 'loadmoney_3_main_G134', 'softpulse_1_main_G34', 'loadmoney_3_main_G138', 'loadmoney_3_main_G141', 'zusy_1_main_G13', 'zusy_3_main_G128', 'softpulse_1_main_G26', 'loadmoney_3_main_G142', 'softpulse_2_main_G13', 'loadmoney_4_main_G40', 'softpulse_3_main_G84', 'zusy_2_main_G33', 'zusy_4_main_G12', 'softpulse_3_main_G78', 'zusy_3_main_G102', 'softpulse_1_main_G37', 'zusy_3_main_G121', 'loadmoney_3_main_G143', 'zusy_3_main_G135', 'loadmoney_3_main_G135', 'loadmoney_2_main_G30', 'loadmoney_3_main_G97', 'zusy_2_main_G37', 'loadmoney_3_main_G140', 'zusy_3_main_G130', 'zusy_3_main_G115', 'softpulse_3_main_G77', 'softpulse_3_main_G76', 'softpulse_3_main_G88', 'softpulse_1_main_G31', 'loadmoney_2_main_G29', 'softpulse_3_main_G90', 'zusy_3_main_G117', 'zusy_4_main_G11', 'zusy_3_main_G98', 'loadmoney_3_main_G101', 'loadmoney_3_main_G127', 'softpulse_1_main_G36', 'zusy_2_main_G27', 'zusy_2_main_G36', 'softpulse_4_main_G30', 'loadmoney_3_main_G121', 'softpulse_3_main_G87', 'softpulse_4_main_G27'])"
      ]
     },
     "execution_count": 52,
     "metadata": {},
     "output_type": "execute_result"
    }
   ],
   "source": [
    "forestDict.keys()"
   ]
  },
  {
   "cell_type": "code",
   "execution_count": 7,
   "metadata": {},
   "outputs": [
    {
     "data": {
      "text/plain": [
       "519"
      ]
     },
     "execution_count": 7,
     "metadata": {},
     "output_type": "execute_result"
    }
   ],
   "source": []
  }
 ],
 "metadata": {
  "kernelspec": {
   "display_name": "Python 3",
   "language": "python",
   "name": "python3"
  },
  "language_info": {
   "codemirror_mode": {
    "name": "ipython",
    "version": 3
   },
   "file_extension": ".py",
   "mimetype": "text/x-python",
   "name": "python",
   "nbconvert_exporter": "python",
   "pygments_lexer": "ipython3",
   "version": "3.4.5"
  }
 },
 "nbformat": 4,
 "nbformat_minor": 2
}
