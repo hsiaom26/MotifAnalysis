{
 "cells": [
  {
   "cell_type": "code",
   "execution_count": null,
   "metadata": {
    "collapsed": false
   },
   "outputs": [],
   "source": [
    "import os\n",
    "\n",
    "def listMalwrHash(rootPath):\n",
    "\n",
    "    hash_list = []\n",
    "    for root, dirs, files in os.walk(rootPath):\n",
    "        for fEntry in files:\n",
    "            fileHash = fEntry.split(\"_\")[0]\n",
    "            if fileHash not in hash_list:\n",
    "                hash_list.append(fileHash)\n",
    "\n",
    "    ## for macOS\n",
    "    if '.DS' in hash_list:\n",
    "        hash_list.remove('.DS')\n",
    "    if 'Readme' in hash_list:\n",
    "        hash_list.remove('Readme')\n",
    "\n",
    "    for malwrHash in hash_list:\n",
    "        print malwrHash\n",
    "        \n",
    "    return hash_list"
   ]
  },
  {
   "cell_type": "code",
   "execution_count": null,
   "metadata": {
    "collapsed": false
   },
   "outputs": [],
   "source": [
    "import requests\n",
    "\n",
    "headers = {\n",
    "  \"Accept-Encoding\": \"gzip, deflate\",\n",
    "  \"User-Agent\" : \"gzip,  My Python requests library example client or username\"\n",
    "  }\n",
    "\n",
    "# Send a request to VirusTotal asking for report.\n",
    "def queryReport(malwrHash):\n",
    "    params = {'apikey': '00cccc03902e4c723b2e0e0fcbba1df702b01098052528c8a9ca9f545f41e38c',\n",
    "              'allinfo':'1'}\n",
    "    params['resource'] = malwrHash # add {key:val} = {resource:hash}\n",
    "    response = requests.post('https://www.virustotal.com/vtapi/v2/file/report', \n",
    "                             params=params, headers=headers)\n",
    "    \n",
    "    print \"Query:\\t\", malwrHash\n",
    "    json_response = response.json()\n",
    "    \n",
    "    return json_response"
   ]
  }
 ],
 "metadata": {
  "kernelspec": {
   "display_name": "Python 2",
   "language": "python",
   "name": "python2"
  },
  "language_info": {
   "codemirror_mode": {
    "name": "ipython",
    "version": 2
   },
   "file_extension": ".py",
   "mimetype": "text/x-python",
   "name": "python",
   "nbconvert_exporter": "python",
   "pygments_lexer": "ipython2",
   "version": "2.7.11"
  }
 },
 "nbformat": 4,
 "nbformat_minor": 0
}
