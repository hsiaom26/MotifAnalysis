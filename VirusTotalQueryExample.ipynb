{
 "cells": [
  {
   "cell_type": "markdown",
   "metadata": {},
   "source": [
    "Asking VirusTotal for reports of Hashs."
   ]
  },
  {
   "cell_type": "code",
   "execution_count": null,
   "metadata": {
    "collapsed": false
   },
   "outputs": [],
   "source": [
    "# Call 'VirusTotalQuery.ipynb' to get reports\n",
    "%run VirusTotalQuery.ipynb"
   ]
  },
  {
   "cell_type": "code",
   "execution_count": null,
   "metadata": {
    "collapsed": false
   },
   "outputs": [],
   "source": [
    "import json\n",
    "from time import sleep\n",
    "\n",
    "# main function\n",
    "dataRootPath = \"./hooklogs/dataSet\" # set your hooklogs path\n",
    "outputDirPath = \"./VTReport/\" # set your output dir path\n",
    "requestLimit = 300 # virusTotal request limit quota per minute\n",
    "\n",
    "hash_list = listMalwrHash(dataRootPath)\n",
    "\n",
    "counter = 0 # use for VirusTotal maximum requests limit\n",
    "noReport_list = [] # storing no report Hash\n",
    "\n",
    "# query loop\n",
    "for malwrHash in hash_list :\n",
    "    if counter == requestLimit:\n",
    "        sleep(50) # sleep 50secs\n",
    "        counter=0\n",
    "    \n",
    "    report = queryReport(malwrHash)\n",
    "    \n",
    "#     Check whether report in VT\n",
    "    if report[\"response_code\"] != 1: # 1 => VT has report in DB\n",
    "        noReport_list.append((report[\"resource\"], report[\"response_code\"], report[\"verbose_msg\"]))\n",
    "    else:\n",
    "        if not os.path.exists(outputDirPath):\n",
    "            os.makedirs(outputDirPath)\n",
    "        filePath = os.path.join(outputDirPath, malwrHash + \".txt\")\n",
    "\n",
    "        reportFile = open(filePath, \"w\")\n",
    "        json.dump(report, reportFile, sort_keys = True ,indent = 4) # dump json struct. (like dict[])\n",
    "        reportFile.close()\n",
    "\n",
    "        counter+=1\n",
    "\n",
    "    \n",
    "# output no report list\n",
    "if not os.path.exists(outputDirPath):\n",
    "            os.makedirs(outputDirPath)\n",
    "\n",
    "noReport_list_Path = os.path.join(outputDirPath, \"noReport_list.txt\")\n",
    "with open(noReport_list_Path, 'w') as errOutFile:\n",
    "    for recordRow in noReport_list:\n",
    "        errOutFile.write(\" \".join( str(item) for item in recordRow) + \"\\n\")\n"
   ]
  }
 ],
 "metadata": {
  "kernelspec": {
   "display_name": "Python 2",
   "language": "python",
   "name": "python2"
  },
  "language_info": {
   "codemirror_mode": {
    "name": "ipython",
    "version": 2
   },
   "file_extension": ".py",
   "mimetype": "text/x-python",
   "name": "python",
   "nbconvert_exporter": "python",
   "pygments_lexer": "ipython2",
   "version": "2.7.11"
  }
 },
 "nbformat": 4,
 "nbformat_minor": 0
}
