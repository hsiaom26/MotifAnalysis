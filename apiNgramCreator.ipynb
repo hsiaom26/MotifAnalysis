{
 "cells": [
  {
   "cell_type": "code",
   "execution_count": null,
   "metadata": {},
   "outputs": [],
   "source": []
  },
  {
   "cell_type": "code",
   "execution_count": null,
   "metadata": {},
   "outputs": [],
   "source": [
    "class FamilyTree:\n",
    "    familyName = None\n",
    "    treeIndex = None\n",
    "    apiSequences = None\n",
    "    nGramList = []\n",
    "    \n",
    "    def __init__(self, familyName, treeIndex, apiSequences, windowSize):\n",
    "        self.familyName = familyName\n",
    "        self.treeIndex = treeIndex\n",
    "        self.apiSequences = apiSequences\n",
    "        \n",
    "        self._removeUnwantedAPI()\n",
    "        self._removeDuplicateAPI()\n",
    "        self._setNgram(windowSize)\n",
    "    \n",
    "    def _removeUnwantedAPI(self): # remove loadlibrary api\n",
    "        result = []\n",
    "        for api in self.apiSequences:\n",
    "            API = api.split('#')[0]\n",
    "            if API != 'RegOpenKey' and API != 'RegCloseKey' and API != 'CloseHandle': # api not unwanted\n",
    "                result.append(api)\n",
    "        self.apiSequences = result\n",
    "        \n",
    "    def _removeDuplicateAPI(self): # remove duplicate api if continuously occur\n",
    "        result = []\n",
    "        lastAPI = \"\"\n",
    "        for api in self.apiSequences:\n",
    "            if lastAPI != api: # find new api\n",
    "                result.append(api)\n",
    "                lastAPI = api\n",
    "        self.apiSequences = result\n",
    "    \n",
    "    def _setNgram(self, windowSize):\n",
    "        sequenceLen = len(self.apiSequences)\n",
    "        self.nGramList = [ self.apiSequences[ i : i+windowSize ] for i in range(sequenceLen - windowSize + 1) ]\n",
    "    \n",
    "    def getFamilyName(self):\n",
    "        return self.familyName\n",
    "    \n",
    "    def getTreeIndex(self):\n",
    "        return self.treeIndex\n",
    "    \n",
    "    def getAPISequences(self):\n",
    "        return self.apiSequences\n",
    "    \n",
    "    def getNGramList(self):\n",
    "        return self.nGramList\n",
    "    \n",
    "    def getNGramListLen(self):\n",
    "        return len(self.nGramList)"
   ]
  }
 ],
 "metadata": {
  "kernelspec": {
   "display_name": "Python 3",
   "language": "python",
   "name": "python3"
  },
  "language_info": {
   "codemirror_mode": {
    "name": "ipython",
    "version": 3
   },
   "file_extension": ".py",
   "mimetype": "text/x-python",
   "name": "python",
   "nbconvert_exporter": "python",
   "pygments_lexer": "ipython3",
   "version": "3.4.5"
  }
 },
 "nbformat": 4,
 "nbformat_minor": 2
}
