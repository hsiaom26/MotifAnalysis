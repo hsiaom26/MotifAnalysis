{
 "cells": [
  {
   "cell_type": "markdown",
   "metadata": {},
   "source": [
    "### copy file from hooklog Pool to classified directory.\n",
    "1. see the md5 in given pickle dictionary(generated from Mike's AvVendorReport.py)\n",
    "2. check if the md5 trace is in hooklog Pool\n",
    "3. if true, then copy to target family directory. (Do classifying)"
   ]
  },
  {
   "cell_type": "code",
   "execution_count": null,
   "metadata": {},
   "outputs": [],
   "source": [
    "import pickle\n",
    "import os\n",
    "import shutil\n",
    "\n",
    "dataPickle = \"Report/0.1.pickle\"\n",
    "family_root_dir = \"tracelogs_by_family_Temu20/\"\n",
    "hkPoolDir = \"hooklogs/temu_20/\"\n",
    "# read the target pickle files\n",
    "with open(dataPickle, 'rb') as handle:\n",
    "    dataContent = pickle.load(handle)\n",
    "\n",
    "for famName, md5s in dataContent.items():\n",
    "    familyDir = family_root_dir + famName\n",
    "    \n",
    "    for root, dirs, files in os.walk(hkPoolDir):\n",
    "        for fEntry in files:\n",
    "            path = root + fEntry\n",
    "            md5 = fEntry.split(\"_\")[0]\n",
    "            if md5 in md5s:\n",
    "                if not os.path.isdir(familyDir): os.makedirs(familyDir)\n",
    "                shutil.copyfile(path, familyDir+\"/\"+fEntry)"
   ]
  },
  {
   "cell_type": "code",
   "execution_count": null,
   "metadata": {},
   "outputs": [],
   "source": [
    "# dataContent['bettersurf']"
   ]
  },
  {
   "cell_type": "markdown",
   "metadata": {},
   "source": [
    "### Classify the generation of a variant\n",
    "1. check whether a variant will fork child process and grand child process.\n",
    "2. define their relationship\n",
    "3. separate these processes into different directory in a family directory."
   ]
  },
  {
   "cell_type": "code",
   "execution_count": null,
   "metadata": {},
   "outputs": [],
   "source": [
    "# Key API Name = CreateProcess\n",
    "# Key Attribute = dwProcessId\n",
    "\n",
    "def getSampleRelation(familyPath, sampleMD5Dict):\n",
    "    keyAPI = \"CreateProcess\"\n",
    "    keyAttribute = \"dwProcessId\"\n",
    "    \n",
    "    possibleRoot = set()\n",
    "    result = dict()\n",
    "    md5RelationDict = dict() # a dict {key=main: value=child_pid} (or key=child, value=grandchild_pid)\n",
    "    \n",
    "    for md5 in sorted(sampleMD5Dict.keys()):\n",
    "        traceFiles = sampleMD5Dict[md5]\n",
    "        if len(traceFiles) == 1: # if single file, skip it.\n",
    "            possibleRoot.add(traceFiles[0])\n",
    "            continue\n",
    "\n",
    "        for trace in traceFiles: # trace all files if they have same md5\n",
    "            \n",
    "            handle = open(familyPath + trace, 'rb')\n",
    "            child = list()\n",
    "            while(1):\n",
    "                line = handle.readline().decode(\"ISO 8859-1\").strip() # MIKE: 20170616, for python 3\n",
    "                if not line: \n",
    "                    break\n",
    "                if(line[0] is '#'):\n",
    "                    api = handle.readline().decode(\"ISO 8859-1\").strip() # see api name\n",
    "                    if(api == keyAPI):\n",
    "                        terminateCtr = 0\n",
    "                        \n",
    "                        # dwProcessId may appear in createProcess's params, amounts 14 lines\n",
    "                        while(terminateCtr<14):\n",
    "                            newLine = handle.readline().decode(\"ISO 8859-1\").strip()\n",
    "                            if(newLine[0:6] == \"Return\"):\n",
    "                                if(newLine.split('=')[1] != \"SUCCESS\"): break\n",
    "\n",
    "                            if(newLine[0:11] == keyAttribute):\n",
    "                                child.append(newLine.split('=')[1])\n",
    "                                break\n",
    "\n",
    "                            terminateCtr+=1 # defend of infinite loop\n",
    "                            \n",
    "            md5RelationDict[trace] = child\n",
    "\n",
    "    \n",
    "    for trace in sorted(md5RelationDict.keys()):\n",
    "        childList = md5RelationDict[trace]\n",
    "\n",
    "        if trace not in result.keys():\n",
    "            traceList = list()\n",
    "            for child in childList:\n",
    "                hashValue = trace.split(\"_\")[0]\n",
    "                fName = hashValue + \"_\" + child + \".trace.hooklog\"\n",
    "\n",
    "                if fName in sampleMD5Dict[hashValue]:\n",
    "                    traceList.append(fName)\n",
    "#                 else:\n",
    "#                     print(trace, child)\n",
    "            result[trace] = traceList\n",
    "        else:\n",
    "            print(\"!!! - \",trace)\n",
    "    \n",
    "    reverseRelation = dict()\n",
    "    for k in sorted(result.keys()):\n",
    "        v = result[k]\n",
    "        if v:\n",
    "            for ele in v:\n",
    "                if ele in reverseRelation.keys(): print(ele,\";\",k)\n",
    "                reverseRelation[ele] = k\n",
    "\n",
    "    possibleRoot.update(set(md5RelationDict.keys()))\n",
    "    totalTraceCount = len(possibleRoot)\n",
    "    \n",
    "    for k in reverseRelation.keys():\n",
    "        if k in possibleRoot:\n",
    "            possibleRoot.remove(k)\n",
    "                        \n",
    "    return result, possibleRoot, totalTraceCount"
   ]
  },
  {
   "cell_type": "code",
   "execution_count": null,
   "metadata": {},
   "outputs": [],
   "source": [
    "# Move all other main processes which didn't fork any child to mainDir\n",
    "import os\n",
    "def moveOtherMainProcs(familyPath, mainDir):\n",
    "    files = os.listdir(familyPath)\n",
    "    for mainProc in files:\n",
    "        if os.path.isfile(familyPath+mainProc):\n",
    "            shutil.move(familyPath+mainProc, mainDir)"
   ]
  },
  {
   "cell_type": "code",
   "execution_count": null,
   "metadata": {},
   "outputs": [],
   "source": [
    "import shutil\n",
    "def separateProcessByGeneration(familyPath, levels):\n",
    "    print(familyPath)\n",
    "    \n",
    "    for level, malwrs in levels.items():\n",
    "        if level == 1:\n",
    "            myDir = familyPath + 'main/'\n",
    "        elif level == 2:\n",
    "            myDir = familyPath + 'child/'\n",
    "        else:\n",
    "            myDir = familyPath + str(level) + ' child/'\n",
    "            \n",
    "        if not os.path.isdir(myDir): os.makedirs(myDir)\n",
    "            \n",
    "        for mal in malwrs:\n",
    "            shutil.move(familyPath+mal, myDir)"
   ]
  },
  {
   "cell_type": "markdown",
   "metadata": {},
   "source": [
    "### Check main-child relationship of process of family\n",
    "1. set the specific family\n",
    "2. Get the relationDict - which contains main and child relation\n",
    "(key = main, value = list of children)\n",
    "3. if having grandchild, then the dict value is a dict{key=child, value=list of grand children}\n",
    "## Run main/child separation : do 'separateProcessByGeneration()'"
   ]
  },
  {
   "cell_type": "code",
   "execution_count": null,
   "metadata": {
    "scrolled": true
   },
   "outputs": [],
   "source": [
    "familyPath = 'tracelogs_by_family_Temu20/razy'\n",
    "\n",
    "if os.path.isdir(familyPath):\n",
    "    sampleMD5Dict = dict() # A dict which key=md5, value=md5_pid.trace\n",
    "\n",
    "    for root, dirs, files in os.walk(familyPath):\n",
    "        for fEntry in files:\n",
    "            if(fEntry == '.DS_Store'): continue # MacOS file system file.\n",
    "\n",
    "            md5 = fEntry.split(\"_\")[0]\n",
    "            \n",
    "            if sampleMD5Dict.get(md5): # classifying traces by md5\n",
    "                sampleMD5Dict[md5].append(fEntry)\n",
    "            else:\n",
    "                sampleMD5Dict[md5] = [fEntry]\n",
    "    print(\"MD5 kinds: \", len(sampleMD5Dict.keys()))\n",
    "    print(\"Have multi-procs md5:\")\n",
    "    ctr = 0\n",
    "    for key, value in sampleMD5Dict.items():\n",
    "        if len(value) > 1:\n",
    "            ctr+=1\n",
    "#             print(key, len(value))\n",
    "    print(\"multi-process samples count:\", ctr)\n",
    "            \n",
    "    result, possibleRoot, totalTraceCount = getSampleRelation(familyPath + '/' , sampleMD5Dict)"
   ]
  },
  {
   "cell_type": "code",
   "execution_count": null,
   "metadata": {
    "scrolled": true
   },
   "outputs": [],
   "source": [
    "levels = dict()\n",
    "currentLevel = 1\n",
    "\n",
    "levels[currentLevel] = possibleRoot\n",
    "classifiedTraceCount = len(possibleRoot)\n",
    "print(\"currentLevel:\",currentLevel , \" - \", len(levels[currentLevel]))\n",
    "while(classifiedTraceCount < totalTraceCount):\n",
    "    levels[currentLevel+1] = set()\n",
    "    \n",
    "    for parent in levels[currentLevel]:\n",
    "#         print(parent, result[parent])\n",
    "        \n",
    "        if parent in result.keys():\n",
    "            for t in result[parent]:\n",
    "                levels[currentLevel+1].add(t)\n",
    "                classifiedTraceCount+=1\n",
    "        else:\n",
    "            pass\n",
    "    currentLevel+=1\n",
    "    print(\"currentLevel:\",currentLevel , \" - \", len(levels[currentLevel]))\n",
    "    "
   ]
  },
  {
   "cell_type": "code",
   "execution_count": null,
   "metadata": {},
   "outputs": [],
   "source": [
    "tl = 0\n",
    "for lv, eles in levels.items():\n",
    "    print(\"Level:\", lv, \" - 個數:\", len(eles))\n",
    "    tl += len(eles)\n",
    "print(\"總共 \", tl, \" 個\")"
   ]
  },
  {
   "cell_type": "markdown",
   "metadata": {},
   "source": [
    "### Moving Tracelogs according the above level relationship."
   ]
  },
  {
   "cell_type": "code",
   "execution_count": null,
   "metadata": {},
   "outputs": [],
   "source": [
    "# Do generation separation\n",
    "separateProcessByGeneration(familyPath + '/', levels)"
   ]
  },
  {
   "cell_type": "code",
   "execution_count": null,
   "metadata": {},
   "outputs": [],
   "source": []
  }
 ],
 "metadata": {
  "kernelspec": {
   "display_name": "Python 3",
   "language": "python",
   "name": "python3"
  },
  "language_info": {
   "codemirror_mode": {
    "name": "ipython",
    "version": 3
   },
   "file_extension": ".py",
   "mimetype": "text/x-python",
   "name": "python",
   "nbconvert_exporter": "python",
   "pygments_lexer": "ipython3",
   "version": "3.4.5"
  }
 },
 "nbformat": 4,
 "nbformat_minor": 2
}
