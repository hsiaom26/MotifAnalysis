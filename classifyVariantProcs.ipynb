{
 "cells": [
  {
   "cell_type": "markdown",
   "metadata": {},
   "source": [
    "### copy file from hooklog Pool to classified directory.\n",
    "1. see the md5 in given pickle dictionary(generated from Mike's AvVendorReport.py)\n",
    "2. check if the md5 trace is in hooklog Pool\n",
    "3. if true, then copy to target family directory. (Do classifying)"
   ]
  },
  {
   "cell_type": "code",
   "execution_count": null,
   "metadata": {},
   "outputs": [],
   "source": [
    "import pickle\n",
    "import os\n",
    "import shutil\n",
    "\n",
    "dataPickle = \"Mike_1026/0.1.pickle\"\n",
    "family_root_dir = \"hooklogs_by_family_7137HK/\"\n",
    "hkPoolDir = \"hooklogs/7137HK/\"\n",
    "# read the target pickle files\n",
    "with open(dataPickle, 'rb') as handle:\n",
    "    dataContent = pickle.load(handle)\n",
    "\n",
    "for famName, md5s in dataContent.items():\n",
    "    familyDir = family_root_dir + famName\n",
    "    \n",
    "    for root, dirs, files in os.walk(hkPoolDir):\n",
    "        for fEntry in files:\n",
    "            path = root + fEntry\n",
    "            md5 = fEntry.split(\"_\")[0]\n",
    "            if md5 in md5s:\n",
    "                if not os.path.isdir(familyDir): os.makedirs(familyDir)\n",
    "                shutil.copyfile(path, familyDir+\"/\"+fEntry)"
   ]
  },
  {
   "cell_type": "markdown",
   "metadata": {},
   "source": [
    "### Classify the generation of a variant\n",
    "1. check whether a variant will fork child process and grand child process.\n",
    "2. define their relationship\n",
    "3. separate these processes into different directory in a family directory."
   ]
  },
  {
   "cell_type": "code",
   "execution_count": null,
   "metadata": {},
   "outputs": [],
   "source": [
    "def getOriginalFileName(pid, originalFileNames):\n",
    "    for fileName in originalFileNames:\n",
    "        nameSnippet = fileName.split('_')\n",
    "        number = nameSnippet[len(nameSnippet)-1].split('.')[0]\n",
    "        if pid == number:\n",
    "            return fileName\n",
    "    return None"
   ]
  },
  {
   "cell_type": "code",
   "execution_count": null,
   "metadata": {},
   "outputs": [],
   "source": [
    "# Key API Name = CreateProcessInternal\n",
    "# Key Attribute = dwProcessId\n",
    "\n",
    "def getSampleRelation(familyPath, sampleMD5Dict):\n",
    "    keyAPI = \"CreateProcessInternal\"\n",
    "    keyAttribute = \"dwProcessId\"\n",
    "\n",
    "    result = dict()\n",
    "    for md5, traceFiles in sampleMD5Dict.items():\n",
    "        if len(traceFiles) == 1: # if single file, skip it.\n",
    "            continue\n",
    "\n",
    "        md5RelationDict = dict() # a dict {key=main: value=child_pid} (or key=child, value=grandchild_pid)\n",
    "        for trace in traceFiles: # trace all files if they have same md5\n",
    "            \n",
    "            handle = open(familyPath + trace, 'rb')\n",
    "            child = set()\n",
    "            while(1):\n",
    "                line = handle.readline().decode(\"ISO 8859-1\").strip() # MIKE: 20170616, for python 3\n",
    "                if not line: \n",
    "                    break\n",
    "                if(line[0] is '#'):\n",
    "                    api = handle.readline().decode(\"ISO 8859-1\").strip() # see api name\n",
    "                    if(api == keyAPI):\n",
    "                        terminateCtr = 0\n",
    "                        while(terminateCtr<5):\n",
    "                            newLine = handle.readline().decode(\"ISO 8859-1\").strip()\n",
    "                            if(newLine[0:6] == \"Return\"):\n",
    "                                if(newLine.split('=')[1] != \"SUCCESS\"): break\n",
    "\n",
    "                            if(newLine[0:11] == keyAttribute):\n",
    "                                child.add(newLine.split('=')[1])\n",
    "                                break\n",
    "\n",
    "                            terminateCtr+=1 # defend of infinite loop\n",
    "            md5RelationDict[trace] = child\n",
    "        \n",
    "        addedList = list()\n",
    "        for trace, childSet in md5RelationDict.items():\n",
    "            if trace not in addedList:\n",
    "                if len(childSet) > 0:\n",
    "                    tempList = list()\n",
    "                    for child in childSet:\n",
    "                        fileName = getOriginalFileName(child, md5RelationDict.keys())\n",
    "\n",
    "                        # maybe a child process doesn't in family directory.(due to profiling bug)\n",
    "                        if(fileName is None): continue\n",
    "                        addedList.append(fileName)\n",
    "                        if len(md5RelationDict[fileName]) > 0:\n",
    "                            gcList = list()\n",
    "                            for pid in md5RelationDict[fileName]:\n",
    "                                gcFile = getOriginalFileName(pid, md5RelationDict.keys())\n",
    "                                if(gcFile is None): continue\n",
    "                                gcList.append(gcFile)\n",
    "                                addedList.append(gcFile)\n",
    "                            if gcList:\n",
    "                                tempList.append(fileName)\n",
    "                            else:\n",
    "                                tempList.append({fileName: gcList})\n",
    "                        else:\n",
    "                            tempList.append(fileName)\n",
    "                    if tempList:\n",
    "                        result[trace] = tempList\n",
    "                        \n",
    "    return result"
   ]
  },
  {
   "cell_type": "code",
   "execution_count": null,
   "metadata": {},
   "outputs": [],
   "source": [
    "# Move all other main processes which didn't fork any child to mainDir\n",
    "import os\n",
    "def moveOtherMainProcs(familyPath, mainDir):\n",
    "    files = os.listdir(familyPath)\n",
    "    for mainProc in files:\n",
    "        if os.path.isfile(familyPath+mainProc):\n",
    "            shutil.move(familyPath+mainProc, mainDir)"
   ]
  },
  {
   "cell_type": "code",
   "execution_count": null,
   "metadata": {},
   "outputs": [],
   "source": [
    "import shutil\n",
    "def separateProcessByGeneration(familyPath, relationDict):\n",
    "    mainDir = familyPath + 'main/'\n",
    "    childDir = familyPath + 'child/'\n",
    "    grandChildDir = familyPath + 'grand child/'\n",
    "    print(familyPath)\n",
    "    \n",
    "    for key, value in relationDict.items():\n",
    "        mainProc = key\n",
    "        if not os.path.isdir(mainDir): os.makedirs(mainDir)\n",
    "        shutil.move(familyPath+mainProc, mainDir)\n",
    "        \n",
    "        for sampleTrace in value:\n",
    "            if type(sampleTrace) is dict:\n",
    "                if not os.path.isdir(childDir): os.makedirs(childDir)\n",
    "                if not os.path.isdir(grandChildDir): os.makedirs(grandChildDir)\n",
    "                for child, grandChilds in sampleTrace.items():\n",
    "#                     print(\"child - \" , child)\n",
    "                    shutil.move(familyPath+child, childDir)\n",
    "                    for grandChild in grandChilds:\n",
    "#                         print(\"GrandChild - \" , grandChild)\n",
    "                        shutil.move(familyPath+grandChild, grandChildDir)\n",
    "                \n",
    "            else: # child\n",
    "                if not os.path.isdir(childDir): os.makedirs(childDir)\n",
    "                shutil.move(familyPath+sampleTrace, childDir)\n",
    "                \n",
    "    moveOtherMainProcs(familyPath, mainDir)"
   ]
  },
  {
   "cell_type": "markdown",
   "metadata": {},
   "source": [
    "### Check main-child relationship of process of family\n",
    "1. set the specific family\n",
    "2. Get the relationDict - which contains main and child relation\n",
    "(key = main, value = list of children)\n",
    "3. if having grandchild, then the dict value is a dict{key=child, value=list of grand children}\n",
    "## Run main/child separation : do 'separateProcessByGeneration()'"
   ]
  },
  {
   "cell_type": "code",
   "execution_count": null,
   "metadata": {},
   "outputs": [],
   "source": [
    "familyPath = 'hooklogs_by_family_7137HK/allaple/main'\n",
    "if os.path.isdir(familyPath):\n",
    "    sampleMD5Dict = dict() # A dict which key=md5, value=md5_pid.trace\n",
    "    \n",
    "    for root, dirs, files in os.walk(familyPath):\n",
    "        for fEntry in files:\n",
    "            if(fEntry == '.DS_Store'): continue # MacOS file system file.\n",
    "\n",
    "            md5 = fEntry.split(\"_\")[0]\n",
    "            if sampleMD5Dict.get(md5): # classifying traces by md5\n",
    "                sampleMD5Dict[md5].append(fEntry)\n",
    "            else:\n",
    "                sampleMD5Dict[md5] = [fEntry]\n",
    "                \n",
    "    print(\"MD5 kinds: \", len(sampleMD5Dict.keys()))\n",
    "    print(\"Have multi-procs md5:\")\n",
    "    ctr = 0\n",
    "    for key, value in sampleMD5Dict.items():\n",
    "        if len(value) > 1:\n",
    "            ctr+=1\n",
    "            print(key, len(value))\n",
    "    print(\"multi-process samples count:\", ctr)\n",
    "            \n",
    "    relationDict = getSampleRelation(familyPath + '/' , sampleMD5Dict)\n",
    "#     print(\"Multi-processes' relation:\\n\", relationDict)"
   ]
  },
  {
   "cell_type": "code",
   "execution_count": null,
   "metadata": {},
   "outputs": [],
   "source": [
    "# Do generation separation\n",
    "separateProcessByGeneration(familyPath + '/', relationDict)"
   ]
  }
 ],
 "metadata": {
  "kernelspec": {
   "display_name": "Python 3",
   "language": "python",
   "name": "python3"
  },
  "language_info": {
   "codemirror_mode": {
    "name": "ipython",
    "version": 3
   },
   "file_extension": ".py",
   "mimetype": "text/x-python",
   "name": "python",
   "nbconvert_exporter": "python",
   "pygments_lexer": "ipython3",
   "version": "3.4.5"
  }
 },
 "nbformat": 4,
 "nbformat_minor": 2
}
