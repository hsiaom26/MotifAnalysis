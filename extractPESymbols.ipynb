{
 "cells": [
  {
   "cell_type": "markdown",
   "metadata": {},
   "source": [
    "### count the frequency of tuple(api, dll)"
   ]
  },
  {
   "cell_type": "code",
   "execution_count": null,
   "metadata": {
    "collapsed": false
   },
   "outputs": [],
   "source": [
    "import os\n",
    "import pefile\n",
    "\n",
    "#     main_api_pool_dict = {\n",
    "#         api : {dll-1 : frequency, dll-2 : frequency }\n",
    "#     }\n",
    "    \n",
    "def getImportedSymbols(filePath, main_pool_dict):\n",
    "    pe = pefile.PE(filePath)\n",
    "    \n",
    "    for entry in pe.DIRECTORY_ENTRY_IMPORT:\n",
    "        dll = entry.dll\n",
    "        for imp in entry.imports:\n",
    "            \n",
    "            if imp.name in main_pool_dict:\n",
    "                if dll in main_pool_dict[imp.name]:\n",
    "                    main_pool_dict[imp.name][dll] +=1\n",
    "                else:\n",
    "                    main_pool_dict[imp.name][dll] = 1\n",
    "                    \n",
    "            else:\n",
    "                main_pool_dict[imp.name] = dict()\n",
    "                main_pool_dict[imp.name][dll] = 1\n",
    "                \n",
    "    return main_pool_dict "
   ]
  },
  {
   "cell_type": "code",
   "execution_count": null,
   "metadata": {
    "collapsed": false
   },
   "outputs": [],
   "source": [
    "def apiFrequencyCounting(dataDirPath):\n",
    "    pe_list = []\n",
    "    for root, dirs, files in os.walk(dataDirPath):\n",
    "        for fEntry in files:\n",
    "            if fEntry not in pe_list:\n",
    "                if fEntry != \".DS_Store\":\n",
    "                    pe_list.append(os.path.join(root,fEntry))\n",
    "                \n",
    "    api_pool_dict = dict()\n",
    "    for pePath in pe_list:\n",
    "        api_pool_dict = getImportedSymbols(pePath, api_pool_dict)\n",
    "    \n",
    "    output_list = []\n",
    "    for api in api_pool_dict:\n",
    "        for dll in api_pool_dict[api]:\n",
    "            output_list.append((dll, api, api_pool_dict[api][dll]))\n",
    "            \n",
    "    return sorted(output_list)"
   ]
  }
 ],
 "metadata": {
  "kernelspec": {
   "display_name": "Python 2",
   "language": "python",
   "name": "python2"
  },
  "language_info": {
   "codemirror_mode": {
    "name": "ipython",
    "version": 2
   },
   "file_extension": ".py",
   "mimetype": "text/x-python",
   "name": "python",
   "nbconvert_exporter": "python",
   "pygments_lexer": "ipython2",
   "version": "2.7.11"
  }
 },
 "nbformat": 4,
 "nbformat_minor": 0
}
