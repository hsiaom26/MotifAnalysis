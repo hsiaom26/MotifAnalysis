{
 "cells": [
  {
   "cell_type": "markdown",
   "metadata": {},
   "source": [
    "### groupZ\n",
    "Given Z, generate a dictionary of grouping result.\n",
    "\n",
    "group_dict = {group_index: (height, {member_index}), ...}"
   ]
  },
  {
   "cell_type": "code",
   "execution_count": 1,
   "metadata": {
    "collapsed": true
   },
   "outputs": [],
   "source": [
    "def groupingZ(Z, hl_list, upgma_threshold):\n",
    "    group_dict = dict()\n",
    "    \n",
    "    for i in range(len(hl_list)):\n",
    "        curr_set = set()\n",
    "        curr_set.add(i)\n",
    "        group_dict[i] = (-1.0, curr_set)\n",
    "    \n",
    "    next_group = len(hl_list)\n",
    "    for z in Z:\n",
    "        a = int(z[0])\n",
    "        b = int(z[1])\n",
    "        h = z[2]\n",
    "        \n",
    "        if h > upgma_threshold:\n",
    "            continue\n",
    "            \n",
    "        # merge a and b to next_group\n",
    "        curr_set = group_dict[a][1].union(group_dict[b][1])\n",
    "        group_dict[next_group] = (h, curr_set)\n",
    "        \n",
    "        # remove a and b\n",
    "        del group_dict[a]\n",
    "        del group_dict[b]\n",
    "        next_group += 1\n",
    "    \n",
    "    return group_dict"
   ]
  },
  {
   "cell_type": "code",
   "execution_count": 2,
   "metadata": {
    "collapsed": true
   },
   "outputs": [],
   "source": [
    "import os\n",
    "import shutil\n",
    "\n",
    "def moveHooklogByGroupDict(group_dict, hl_list, new_tag):\n",
    "    \n",
    "    for g in group_dict:\n",
    "        group_index = g\n",
    "        height = group_dict[group_index][0]\n",
    "        member_set = group_dict[group_index][1]\n",
    "        \n",
    "        new_dir = \"hooklogs/\" + new_tag + \"_\" + str(group_index) +\"/\"\n",
    "        if not os.path.isdir(new_dir):\n",
    "            os.makedirs(new_dir)\n",
    "\n",
    "        for m in member_set:\n",
    "            pathfilename = hl_list[m]\n",
    "            filename = os.path.basename(pathfilename)\n",
    "            shutil.copy(pathfilename, os.path.join(new_dir, filename))\n",
    "            \n",
    "    return \"hooklogs/\" + new_tag + \"_\""
   ]
  }
 ],
 "metadata": {
  "kernelspec": {
   "display_name": "Python 3",
   "language": "python",
   "name": "python3"
  },
  "language_info": {
   "codemirror_mode": {
    "name": "ipython",
    "version": 3
   },
   "file_extension": ".py",
   "mimetype": "text/x-python",
   "name": "python",
   "nbconvert_exporter": "python",
   "pygments_lexer": "ipython3",
   "version": "3.6.1"
  }
 },
 "nbformat": 4,
 "nbformat_minor": 2
}
