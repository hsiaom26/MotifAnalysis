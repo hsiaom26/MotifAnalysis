{
 "cells": [
  {
   "cell_type": "code",
   "execution_count": 1,
   "metadata": {
    "collapsed": true
   },
   "outputs": [],
   "source": [
    "import pickle\n",
    "\n",
    "old_tag = \"somoto_0.8_main\" # used for pickle name\n",
    "old_outputPath = \"output/SBBGCA_Clustering/somoto_1022/main/\"\n",
    "pickleDir = old_outputPath + \"pickle/\"\n",
    "\n",
    "residual_group_pickle = pickleDir + old_tag +\"_residual.pickle\"\n",
    "\n",
    "thresholdValue = 0\n",
    "\n",
    "new_tag = \"somoto_0.8_main_residualTree\"\n",
    "new_outputPath = \"output/SBBGCA_Clustering/somoto_1022/main/residual_tree_merge/\"\n",
    "new_pickleDir = new_outputPath + \"pickle/\"\n",
    "\n",
    "import os\n",
    "if not os.path.isdir(new_outputPath): os.makedirs(new_outputPath)\n",
    "if not os.path.isdir(new_pickleDir): os.makedirs(new_pickleDir)"
   ]
  },
  {
   "cell_type": "code",
   "execution_count": 2,
   "metadata": {
    "scrolled": false
   },
   "outputs": [
    {
     "name": "stdout",
     "output_type": "stream",
     "text": [
      "-- Start Clustering --\n",
      "Threshold set = 0\n",
      "-- Finish Clustering --\n"
     ]
    }
   ],
   "source": [
    "% run SBBGCA.ipynb\n",
    "\n",
    "with open(residual_group_pickle, 'rb') as handle:\n",
    "    residual = pickle.load(handle)\n",
    "\n",
    "    residualReps_dict = dict()\n",
    "    for key, value in residual.items():\n",
    "        clusterName = value[0][0]\n",
    "        motifsList = value[0][1]\n",
    "        members = value[1]\n",
    "        if(len(members) <= 1): continue # skip those single sample which never merged in RasMMA (t=0.8)\n",
    "        \n",
    "        featureHooklog = list()\n",
    "        for motif in motifsList:\n",
    "            featureHooklog.extend(motif[0]) # motif[0] is apiSequences\n",
    "        \n",
    "        R = (clusterName, [(featureHooklog, 0, len(featureHooklog)-1)] )\n",
    "        clusterMembers = {clusterName}\n",
    "        \n",
    "        residualReps_dict[int(clusterName.split('G')[1])] = (R, clusterMembers)        \n",
    "    \n",
    "    if len(residualReps_dict.keys()) > 1: # at least two trees\n",
    "        \n",
    "        intermediatePool, initialDict, roundInfos, residualMessage = tryMergeResidualReps(residualReps_dict, new_tag, new_outputPath, thresholdValue)\n",
    "        # saving intermediatePool as pickle file\n",
    "        with open(new_pickleDir + new_tag + '_intermediate.pickle', 'wb') as handle:\n",
    "            pickle.dump(intermediatePool, handle, protocol=pickle.HIGHEST_PROTOCOL)\n",
    "\n",
    "        # saving initialNames dict as pickle file\n",
    "        with open(new_pickleDir + new_tag + '_initialDict.pickle', 'wb') as handle:\n",
    "            pickle.dump(initialDict, handle, protocol=pickle.HIGHEST_PROTOCOL)\n",
    "\n",
    "        # saving round information dict as pickle file\n",
    "        with open(new_pickleDir + new_tag + '_roundInfos.pickle', 'wb') as handle:\n",
    "            pickle.dump(roundInfos, handle, protocol=pickle.HIGHEST_PROTOCOL)\n",
    "\n",
    "        if(residualMessage is not None): # this shouldn't occur when thresholdValue is 0\n",
    "            with open(new_pickleDir + new_tag + '_residual.pickle', 'wb') as handle:\n",
    "                pickle.dump(residualMessage, handle, protocol=pickle.HIGHEST_PROTOCOL)\n",
    "    else:\n",
    "        print(\"no residual tree candidates.\")"
   ]
  },
  {
   "cell_type": "code",
   "execution_count": 3,
   "metadata": {
    "collapsed": true
   },
   "outputs": [],
   "source": [
    "# reverse clusterID by hooklogName\n",
    "\n",
    "def findClusterID(nameDict, hooklogName):\n",
    "    for key, value in nameDict.items():\n",
    "        if(value == hooklogName):\n",
    "            return key\n",
    "    return hooklogName\n",
    "\n",
    "\n",
    "# convert memberSet to List type\n",
    "def getMemberList(memberSet, nameDict):\n",
    "    memberList = list()\n",
    "    while(len(memberSet)>0):\n",
    "        member = memberSet.pop()\n",
    "        clusterID = findClusterID(nameDict, member)\n",
    "        memberList.append(clusterID)\n",
    "    return memberList"
   ]
  },
  {
   "cell_type": "code",
   "execution_count": 4,
   "metadata": {},
   "outputs": [
    {
     "name": "stdout",
     "output_type": "stream",
     "text": [
      "Original Names :  {'G24': 'G24', 'G29': 'G29', 'G31': 'G31'}\n",
      "round informations {0: ['G24', 'G29', 'G31'], 1: ['G3'], 2: ['G4']}\n",
      "G3  :  ['G24', 'G29']\n",
      "G4  :  ['G3', 'G31']\n"
     ]
    }
   ],
   "source": [
    "# read the results from pickle files\n",
    "with open(new_pickleDir + new_tag + '_intermediate.pickle', 'rb') as handle:\n",
    "    intermediate = pickle.load(handle)\n",
    "with open(new_pickleDir + new_tag + '_initialDict.pickle', 'rb') as handle:\n",
    "    initialDict = pickle.load(handle)\n",
    "with open(new_pickleDir + new_tag + '_roundInfos.pickle', 'rb') as handle:\n",
    "    roundInfos = pickle.load(handle)\n",
    "\n",
    "initialNameDict = getInitialNameDict(initialDict)\n",
    "print(\"Original Names : \", initialNameDict)\n",
    "print(\"round informations\", roundInfos)\n",
    "\n",
    "intermediate_list = sorted(intermediate.items(), key=lambda x:x[0])\n",
    "for item in intermediate_list:\n",
    "    value = item[1] # get original dict value\n",
    "    score = value[0]\n",
    "    clusterName = value[1][0]\n",
    "    memberSet = value[2] # members set\n",
    "    memberList = getMemberList(memberSet, initialNameDict)\n",
    "    print(clusterName, \" : \", memberList)"
   ]
  }
 ],
 "metadata": {
  "kernelspec": {
   "display_name": "Python 3",
   "language": "python",
   "name": "python3"
  },
  "language_info": {
   "codemirror_mode": {
    "name": "ipython",
    "version": 3
   },
   "file_extension": ".py",
   "mimetype": "text/x-python",
   "name": "python",
   "nbconvert_exporter": "python",
   "pygments_lexer": "ipython3",
   "version": "3.6.2"
  }
 },
 "nbformat": 4,
 "nbformat_minor": 2
}
